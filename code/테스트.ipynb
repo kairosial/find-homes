{
 "cells": [
  {
   "cell_type": "markdown",
   "metadata": {},
   "source": [
    "### 임베딩 객체 생성(쿼리 임베딩)"
   ]
  },
  {
   "cell_type": "code",
   "execution_count": null,
   "metadata": {},
   "outputs": [],
   "source": [
    "import os\n",
    "from langchain_openai import AzureOpenAIEmbeddings\n",
    "from langchain_community.vectorstores import AzureSearch\n",
    "\n",
    "embedding_api_key = \"\"\n",
    "embedding_endpoint = \"\"\n",
    "embedding_api_version = \"2024-02-15-preview\"\n",
    "embedding_deployment = \"text-embedding-3-small\"\n",
    "\n",
    "os.environ.pop(\"OPENAI_API_BASE\", None)\n",
    "os.environ.pop(\"BASE_URL\", None)\n",
    "\n",
    "ai_search_endpoint = \"\"\n",
    "ai_search_api_key = \"\"\n",
    "\n",
    "# ✅ 임베딩 객체 (쿼리를 임베딩하는 데 사용)\n",
    "embedding = AzureOpenAIEmbeddings(\n",
    "    api_key = embedding_api_key,\n",
    "    azure_endpoint = embedding_endpoint,\n",
    "    model = embedding_deployment,  \n",
    "    openai_api_version = embedding_api_version\n",
    ")"
   ]
  },
  {
   "cell_type": "markdown",
   "metadata": {},
   "source": [
    "### source값 가져오기"
   ]
  },
  {
   "cell_type": "code",
   "execution_count": 3,
   "metadata": {},
   "outputs": [],
   "source": [
    "import requests\n",
    "\n",
    "\n",
    "def get_available_sources(k: int = 1000) -> list:\n",
    "    \"\"\"\n",
    "    Azure AI Search 인덱스에서 사용 가능한 source 값 목록을 중복 없이 반환\n",
    "    \"\"\"\n",
    "    \n",
    "\n",
    "    headers = {\n",
    "        \"Content-Type\": \"application/json\",\n",
    "        \"api-key\": ai_search_api_key\n",
    "    }\n",
    "\n",
    "    body = {\n",
    "        \"search\": \"*\",  # 전체 문서 검색\n",
    "        \"select\": \"source\",  # source 필드만 가져옴\n",
    "        \"top\": k\n",
    "    }\n",
    "\n",
    "    response = requests.post(ai_search_endpoint, headers=headers, json=body)\n",
    "\n",
    "    if response.status_code != 200:\n",
    "        print(f\"❌ 요청 실패: {response.status_code}\")\n",
    "        print(response.text)\n",
    "        return []\n",
    "\n",
    "    data = response.json()\n",
    "    sources = sorted(set(doc[\"source\"] for doc in data[\"value\"] if \"source\" in doc))\n",
    "    return sources"
   ]
  },
  {
   "cell_type": "code",
   "execution_count": 4,
   "metadata": {},
   "outputs": [
    {
     "name": "stdout",
     "output_type": "stream",
     "text": [
      "['(대전충남)25년1차청년매입임대_표준입주자모집공고문.pdf', '(정정공고문)25년1차청년매입임대_표준입주자모집공고문.pdf', '2025년 1차 대구경북 청년매입임대 입주자 모집 공고문.pdf', '2025년1차청년매입임대입주자모집공고문(광주전남).pdf', '25년 1차 청년매입임대 입주자 모집 공고문(강원지역본부).pdf', '25년1차청년매입임대입주자모집공고문.pdf', '아츠스테이영등포_입주자모집공고문.pdf']\n"
     ]
    }
   ],
   "source": [
    "sources = get_available_sources()\n",
    "print(sources)\n"
   ]
  },
  {
   "cell_type": "code",
   "execution_count": 5,
   "metadata": {},
   "outputs": [],
   "source": [
    "\n",
    "def request_ai_search(query: str, source_filter: str = None, k: int = 5) -> list:\n",
    "    # Azure AI Search 설정, endpoint에서 인덱스 지정정\n",
    "    \n",
    "\n",
    "    headers = {\n",
    "        \"Content-Type\": \"application/json\",\n",
    "        \"api-key\": ai_search_api_key\n",
    "    }\n",
    "\n",
    "    # 쿼리 임베딩\n",
    "    query_vector = embedding.embed_query(query)\n",
    "\n",
    "    # 요청 본문 구성\n",
    "    body = {\n",
    "        \"vectorQueries\": [\n",
    "            {\n",
    "                \"kind\": \"vector\",\n",
    "                \"vector\": query_vector,\n",
    "                \"fields\": \"embedding\",\n",
    "                \"k\": k\n",
    "            }\n",
    "        ]\n",
    "    }\n",
    "\n",
    "    if source_filter:\n",
    "        body[\"filter\"] = f\"source eq '{source_filter}'\"\n",
    "\n",
    "    # 요청 전송\n",
    "    response = requests.post(ai_search_endpoint, headers=headers, json=body)\n",
    "\n",
    "    # 응답 처리\n",
    "    if response.status_code != 200:\n",
    "        print(f\"❌ 검색 실패: {response.status_code}\")\n",
    "        print(response.text)\n",
    "        return []\n",
    "\n",
    "    response_json = response.json()\n",
    "    results = [\n",
    "        {\n",
    "            \"content\": item[\"content\"],\n",
    "            \"source\": item.get(\"source\", \"\"),\n",
    "            \"score\": item.get(\"@search.score\", 0)\n",
    "        }\n",
    "        for item in response_json[\"value\"]\n",
    "    ]\n",
    "\n",
    "    return results\n"
   ]
  },
  {
   "cell_type": "code",
   "execution_count": 6,
   "metadata": {},
   "outputs": [
    {
     "name": "stdout",
     "output_type": "stream",
     "text": [
      "\n",
      "🔍 Top 1 (score: 0.6543)\n",
      "출처: (대전충남)25년1차청년매입임대_표준입주자모집공고문.pdf\n",
      "|||신청자는 6개월, 당첨(예비)자는 5년, 계약자는 영구|\n",
      "|전자우편서비스를 통한 임대료 고지서 및 각종 안내문 발송 임차인 중복계약(입주) 및 불법 양도·전대 확인 주택도시기금 대출 검색|||\n",
      "\n",
      "🔍 Top 2 (score: 0.6304)\n",
      "출처: (대전충남)25년1차청년매입임대_표준입주자모집공고문.pdf\n",
      "|공급단계|일정|내용|\n",
      "|---|---|---|\n",
      "|청약신청|4.7(월) 10:00 ~ 4.9(수) 16:00|• 청년 매입임대는 인터넷(https://apply.lh.or.kr) 또는 모바일 앱(LH청약플러스)으로 신청 가능합니다. * LH청약플러스→청약→임대주택→청약신청→매입임대/전세임대 • 공고내용을 숙지하신 후 신청자격, 소득 등 입력사항에 대하여 본인이 해당서류를 확인하시고 신청하시기 바랍니다. / 전화번호 등 개인정보 정확히 기재 요망 * 국세청 홈택스에서 소득조회 가능 (위임장 첨부 시 가족의 소득조회 가능) • 청약신청 기간 중 24시간 신청이 가능합니다. (단, 시작일과 마감일 제외) • 청약 시에는, 공동인증서(개인용) 또는 민간인증서(금융인증서, 네이버인증서, 토스인 증서, KB국민인증서) 발급을 신청접수 이전까지 미리 완료하여야 합니다.|\n",
      "\n",
      "🔍 Top 3 (score: 0.6293)\n",
      "출처: (대전충남)25년1차청년매입임대_표준입주자모집공고문.pdf\n",
      "취소됨을 안내받았습니다. 이에 따라 복학(입학) 후 1개월 이내에 재학증\n",
      "\n",
      " 명서를 제출할 것임을 서약하며, 해당 기한 내에 제출하지 않을 경우에는\n",
      "\n",
      " 당첨 및 계약이 취소되어도 일체의 이의를 제기하지 않을 것임을 확약합\n",
      "\n",
      " 니다.\n",
      "\n",
      " 20 년  월  일\n",
      "\n",
      " 확인자 : (인)\n",
      "\n",
      "### 한국토지주택공사  대전충남지역본부장 귀하\n",
      "\n",
      "\n",
      "-----\n",
      "\n",
      "## 근로형태 확인서\n",
      "\n",
      "###### (19세 이상 39세 이하에 해당하지 않는 취업준비생의 직장 재직 여부 확인용)\n",
      "\n",
      " 사업체명 법인등록번호\n",
      " (법인명) (사업자번호)\n",
      "\n",
      " 사업(장) 현황 대표자 연락처\n",
      "\n",
      " 소재지\n",
      "\n",
      " 성명\n",
      "\n",
      " 근로자\n",
      " 생년월일\n",
      " 현황\n",
      "\n",
      " 주소\n",
      "\n",
      " 근로형태 □ 정규직 □ 비정규직\n",
      "\n",
      " □ 단기또는임시고용 □ 체험형인턴\n",
      " *비정규직일경우\n",
      "\n",
      " □ 채용형인턴 □ 일용직근로\n",
      "\n",
      " 근로기간 20 . . . ～ 20 . . .\n",
      "\n",
      " 근로계약기간 □ 3개월미만 □ 3개월이상 □ 기한의정함이없는경우\n",
      "\n",
      "🔍 Top 4 (score: 0.6220)\n",
      "출처: (대전충남)25년1차청년매입임대_표준입주자모집공고문.pdf\n",
      "근로계약기간 □ 3개월미만 □ 3개월이상 □ 기한의정함이없는경우\n",
      "\n",
      " 주근로시간 □ 1주15시간미만 □ 1주15시간이상\n",
      "\n",
      " 4대보험가입여부 □ 가입 □ 미가입\n",
      "\n",
      "##### 신청자가 LH 청년 매입임대주택을 지원받기 위한 신청자 근로형태에 대하여\n",
      "\n",
      " 상기 사항이 거짓이 아님을 확인합니다.\n",
      "\n",
      " 신  청  인 : (인)\n",
      "\n",
      " 확인자(사용주) : (인)\n",
      "\n",
      " 20 년   월   일\n",
      "\n",
      "### 한국토지주택공사 대전충남지역본부장 귀하\n",
      "\n",
      "🔍 Top 5 (score: 0.6180)\n",
      "출처: (대전충남)25년1차청년매입임대_표준입주자모집공고문.pdf\n",
      "|제출서류|내용|발급처|\n",
      "|---|---|---|\n",
      "|주민등록표등본|• 신청자 본인의 주민등록표등본 제출 * (주의) 세대구성원과 세대주와의 관계, 전입일/변동일 사유, 세대구성 사유, 세대구성원 이름, 13자리 숫자 등이 전부 표기되도록 발급|행정복지센터|\n",
      "|가족관계증명서 (상세)|• 신청자 본인의 가족관계증명서 제출 (상세본으로 발급)||\n",
      "|개인정보 수집· 이용 및 제3자 제공 동의서|• (동의방법) 동의서 내용을 확인하고 아래 순위별 검증대상 전원이 서명 * (주의) 모든 동의란에 체크 필요 • (1순위‧3순위) 본인 또는 본인과 부모 서명(아래 참조) * 부모 무주택 배점 신청 또는 부모 관련 서류 제출 시 본인과 부모 서명, 그 외 본인 서명 (2순위) 본인과 부모 서명|신청자 작성 [양식 첨부]|\n",
      "\n",
      "\n",
      "###### 년\n",
      "\n",
      " 자\n",
      "\n",
      " 격\n"
     ]
    }
   ],
   "source": [
    "query = \"신청 기간이 어떻게 되나요?\"\n",
    "source = \"(대전충남)25년1차청년매입임대_표준입주자모집공고문.pdf\"\n",
    "\n",
    "results = request_ai_search(query, source_filter=source, k=5)\n",
    "for i, result in enumerate(results):\n",
    "    print(f\"\\n🔍 Top {i+1} (score: {result['score']:.4f})\")\n",
    "    print(f\"출처: {result['source']}\")\n",
    "    print(result[\"content\"])\n"
   ]
  },
  {
   "cell_type": "markdown",
   "metadata": {},
   "source": [
    "### LLM 연동"
   ]
  },
  {
   "cell_type": "code",
   "execution_count": null,
   "metadata": {},
   "outputs": [],
   "source": [
    "import requests\n",
    "import re\n",
    "\n",
    "# Azure OpenAI GPT-4o 설정\n",
    "llm_endpoint = \"\"\n",
    "llm_api_key = \"\"\n",
    "\n",
    "def request_gpt(prompt: str) -> str:\n",
    "    \"\"\"\n",
    "    GPT-4o에 프롬프트를 보내고 응답 받기\n",
    "    \"\"\"\n",
    "    headers = {\n",
    "        'Content-Type': 'application/json',\n",
    "        'api-key': llm_api_key\n",
    "    }\n",
    "\n",
    "    body = {\n",
    "        \"messages\": [\n",
    "            {\n",
    "                \"role\": \"system\",\n",
    "                \"content\": \"너는 친절하고 정확한 AI 도우미야. 사용자 질문에 문서 기반으로 답해줘.\"\n",
    "            },\n",
    "            {\n",
    "                \"role\": \"user\",\n",
    "                \"content\": prompt\n",
    "            }\n",
    "        ],\n",
    "        \"temperature\": 0.7,\n",
    "        \"top_p\": 0.95,\n",
    "        \"max_tokens\": 800\n",
    "    }\n",
    "\n",
    "    response = requests.post(llm_endpoint, headers=headers, json=body)\n",
    "\n",
    "    if response.status_code == 200:\n",
    "        response_json = response.json()\n",
    "        message = response_json['choices'][0]['message']\n",
    "        content = message['content']\n",
    "        # [doc1] 같은 포맷이 있을 경우 사람이 읽기 쉽게 변환\n",
    "        content = re.sub(r'\\[doc(\\d+)\\]', r'[참조 \\1]', content)\n",
    "        return content\n",
    "    else:\n",
    "        print(\"❌ 요청 실패:\", response.status_code, response.text)\n",
    "        return \"⚠️ 오류가 발생했습니다.\"\n"
   ]
  },
  {
   "cell_type": "code",
   "execution_count": 8,
   "metadata": {},
   "outputs": [],
   "source": [
    "def generate_answer_with_rag(query: str, source_filter: str = None, top_k: int = 3) -> str:\n",
    "    # 🔍 벡터 유사도 기반 검색 수행 (REST API 기반)\n",
    "    results = request_ai_search(query, source_filter=source_filter, k=top_k)\n",
    "\n",
    "    # 결과가 없으면 안내\n",
    "    if not results:\n",
    "        return \"❌ 관련 문서를 찾을 수 없습니다.\"\n",
    "\n",
    "    # 🔗 context 구성\n",
    "    context = \"\\n\\n\".join([f\"[doc{i+1}]\\n{item['content']}\" for i, item in enumerate(results)])\n",
    "\n",
    "    # 🤖 LLM 프롬프트 생성\n",
    "    prompt = f\"\"\"다음은 사용자가 질문한 내용과 관련된 문서 내용이야. 이 문서를 참고해서 질문에 대해 정확하고 구체적으로 답변해줘.\n",
    "                그리고 어떤 문서에서 찾았는지도 출처도 알려줘\n",
    "[사용자 질문]\n",
    "{query}\n",
    "\n",
    "[참고 문서]\n",
    "{context}\n",
    "\n",
    "답변:\"\"\"\n",
    "\n",
    "    return request_gpt(prompt)\n"
   ]
  },
  {
   "cell_type": "code",
   "execution_count": 9,
   "metadata": {},
   "outputs": [
    {
     "name": "stdout",
     "output_type": "stream",
     "text": [
      "🧠 GPT 응답:\n",
      " 결혼을 하실 예정이라면, 임대주택 관련하여 혜택이 있을 수 있습니다. [참조 1]에 따르면, 입주 후 혼인한 경우 임대주택의 재계약이 추가로 연장될 수 있습니다. 일반적으로는 임대기간이 2년이며, 재계약을 최대 4회까지 가능해 최장 10년 거주할 수 있지만, 혼인한 경우 재계약이 5회 추가로 연장되어 최장 20년까지 거주할 수 있는 혜택을 받을 수 있습니다. \n",
      "\n",
      "이는 혼인 상태가 자격 조건을 충족하는 경우에만 해당하며, 시중 시세의 40~50% 수준의 임대료 및 임대보증금으로 입주할 수 있어 경제적 부담을 덜 수 있는 장점이 있습니다. \n",
      "\n",
      "출처: [참조 1]\n"
     ]
    }
   ],
   "source": [
    "query = \"내가 곧 결혼을 할 예정인데 혜택이 있을까요?\"\n",
    "source = \"(대전충남)25년1차청년매입임대_표준입주자모집공고문.pdf\"\n",
    "\n",
    "answer = generate_answer_with_rag(query, source_filter=source, top_k=5)\n",
    "print(\"🧠 GPT 응답:\\n\", answer)\n"
   ]
  },
  {
   "cell_type": "code",
   "execution_count": 10,
   "metadata": {},
   "outputs": [
    {
     "name": "stdout",
     "output_type": "stream",
     "text": [
      "['(대전충남)25년1차청년매입임대_표준입주자모집공고문.pdf', '(정정공고문)25년1차청년매입임대_표준입주자모집공고문.pdf', '2025년 1차 대구경북 청년매입임대 입주자 모집 공고문.pdf', '2025년1차청년매입임대입주자모집공고문(광주전남).pdf', '25년 1차 청년매입임대 입주자 모집 공고문(강원지역본부).pdf', '25년1차청년매입임대입주자모집공고문.pdf', '아츠스테이영등포_입주자모집공고문.pdf']\n"
     ]
    }
   ],
   "source": [
    "print(sources)"
   ]
  },
  {
   "cell_type": "code",
   "execution_count": null,
   "metadata": {},
   "outputs": [],
   "source": []
  }
 ],
 "metadata": {
  "kernelspec": {
   "display_name": "practice",
   "language": "python",
   "name": "python3"
  },
  "language_info": {
   "codemirror_mode": {
    "name": "ipython",
    "version": 3
   },
   "file_extension": ".py",
   "mimetype": "text/x-python",
   "name": "python",
   "nbconvert_exporter": "python",
   "pygments_lexer": "ipython3",
   "version": "3.8.20"
  }
 },
 "nbformat": 4,
 "nbformat_minor": 2
}
