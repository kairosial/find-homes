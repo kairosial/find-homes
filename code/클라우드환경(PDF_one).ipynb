{
 "cells": [
  {
   "cell_type": "markdown",
   "metadata": {},
   "source": [
    "### PDF-> 마크다운 형태로 변환"
   ]
  },
  {
   "cell_type": "code",
   "execution_count": 8,
   "metadata": {},
   "outputs": [
    {
     "name": "stdout",
     "output_type": "stream",
     "text": [
      "Processing E:\\work\\MS_project_2\\data\\pdfs\\울산 송정하우스디 10년 공공임대주택리즈.pdf...\n",
      "[                                        ] (0/9===[====                                    ] (1/9===[========                                ] (2/9====[=============                           ] (3/===[=================                       ] (4/====[======================                  ] (5/9===[==========================              ] (6/9====[===============================         ] (7/===[===================================     ] (8/====[========================================] (9/9]\n"
     ]
    },
    {
     "data": {
      "text/plain": [
       "33648"
      ]
     },
     "execution_count": 8,
     "metadata": {},
     "output_type": "execute_result"
    }
   ],
   "source": [
    "import pymupdf4llm\n",
    "import pathlib\n",
    "\n",
    "md_text = pymupdf4llm.to_markdown(r\"E:\\work\\MS_project_2\\data\\pdfs\\울산 송정하우스디 10년 공공임대주택리즈.pdf\")  # PDF → Markdown 텍스트\n",
    "pathlib.Path(\"E:/work/MS_project_2/data/test.md\").write_bytes(md_text.encode())  # 저장\n"
   ]
  },
  {
   "cell_type": "markdown",
   "metadata": {},
   "source": [
    "### 문서 로딩"
   ]
  },
  {
   "cell_type": "code",
   "execution_count": 9,
   "metadata": {},
   "outputs": [],
   "source": [
    "from langchain_community.document_loaders import TextLoader\n",
    "\n",
    "loader = TextLoader(\"E:/work/MS_project_2/data/test.md\", encoding=\"utf-8\")\n",
    "documents = loader.load()\n"
   ]
  },
  {
   "cell_type": "code",
   "execution_count": 10,
   "metadata": {},
   "outputs": [
    {
     "name": "stdout",
     "output_type": "stream",
     "text": [
      "[Document(metadata={'source': 'E:/work/MS_project_2/data/test.md'}, page_content='**★ 금회 공급되는 주택에** **계약체결시「주택공급에 관한 규칙」에 따라** **당첨자로 전산관리** **되며,** **계약자 본인은 물론 계약자의 배우자 및 세대원(주민등록표등본**\\n\\n**상에 등재되어 있는 직계존비속 및 주민등록이 분리된 배우자 및 세대원 포함)은 계약일로부터 3년 동안 다른 분양주택(일정기간 경과 후 분양전환 되는**\\n\\n**임대주택 포함하며, 민영주택인 경우에는 투기과열지구 및 청약과열지역에서 공급하는 경우만 해당)의 입주자 및 입주예정자로 선정될 수 없습니다.**\\n\\n**★** **1세대 2인 이상 청약시 중복청약으로 모두 부적격 처리되며,** **해당단지 기계약자 및 그 세대원은 신청할 수 없습니다.**\\n**(당첨자 선정후라도 확인시 당첨자 탈락 처리됨)**\\n\\n**(단, 「주택공급에 관한 규칙」 제4조에 따라 부부가 중복신청하여 모두 입주자로 선정된 경우 선 신청분만 유효합니다.)**\\n\\n- **이 주택의 입주자 모집공고일은** **2025.04.01(화)이며, 이는 청약자격(나이, 지역, 주택소유 등)의 판단기준일입니다.**\\n\\n- 이 모집공고문의 주택관리번호는 **2025000117입니다.**\\n\\n- 금회 공급되는 주택은 **입주자모집 공고일(2025.04.01) 현재 울산광역시에 거주(주민등록표등본 기준)하는 만19세 이상의 무주택 세대구성원에게 1세대 1주택 기준으로**\\n\\n공급(1세대 2인이상 청약시 중복청약으로 부적격처리 됨)하며, 입주자 모집공고일부터 분양전환시까지 무주택세대구성원 요건을 유지하여야 합니다.(외국인 신청 불가)\\n\\n- 이 공고문은 **LH 청약플러스(https://apply.lh.or.kr)에서 확인하실 수 있으며** **팸플릿 열람 및 다운로드가 가능합니다.**\\n\\n※ **실물 견본주택은 운영하지 않으며 LH 청약플러스의 팜플렛으로 대체합니다.**\\n\\n※ 본 주택의 입주자모집공고문 및 팸플릿 등과 관련하여 입주자모집공고 이후 주요 변경·수정사항이 있는 경우 LH 청약플러스(https://apply.lh.or.kr) 공지사항을 통해\\n안내드릴 예정이오니, 청약 전 반드시 해당내용을 확인하시기 바랍니다.\\n\\n- **주택공급 개요**\\n\\n- 금회 공급되는 주택은「주택법」,「공공주택 특별법」등 관련법령 등에 의한 공공주택으로서 임대조건 산정 및 분양전환 등과 관련하여 아래와 같은 특징이 있으므로 동\\n\\n사항을 충분히 숙지하시어 청약에 착오 없으시기 바랍니다.\\n\\n**구    분** **10년 공공임대주택**\\n\\n**주 택 유 형** **최초 모집공고 입주일로부터 10년 임대기간 종료 후 분양 전환되어 소유권을 이전받을 수 있는 주택(최초 모집공고일 : 2017.11.30)**\\n\\n임대조건은 임대보증금 및 월 임대료로 구성되며, 임대보증금과 월 임대료는 「공공주택 특별법 시행령」 제44조 및 국토교통부 고시 제\\n**임 대 조 건**\\n\\n2015-638호에서 규정한 표준임대보증금, 표준임대료 이하에서 결정\\n\\n2개 감정평가법인이 평가한 해당 주택의 감정평가금액을 산술평균한 금액으로 하되, 감정평가법인 선정은 「공공주택 특별법 시행\\n**분양전환가격**\\n\\n규칙」 별표7의 “공공건설임대주택 분양전환가격의 산정기준 제2호 나목”을 적용\\n\\n       - 입주자는 「공공주택 특별법」 제50조의3에 따라 분양전환 당시까지 거주하고 분양전환 당시 임차인 본인 및 임차인이 속한 세대의\\n\\n세대구성원 전원이 무주택 요건을 갖추어야 분양전환 자격이 부여되며, 임차권을 다른 사람에게 양도하거나 임대주택을 전대할 수\\n\\n**유 의 사 항** 없음(단, 「공공주택특별법」 제49조의4에서 규정하고 있는 근무, 생업, 질병치료 등 예외사항 발생시에는 양도하거나 전대할 수 있음)\\n\\n      - 임대차계약은 2년마다 갱신하며, 계약갱신시 임대보증금과 월 임대료는 「주택임대차보호법」에서 정한 범위내에서 주거비 물가지수\\n\\n|구 분|10년 공공임대주택|\\n|---|---|\\n|주 택 유 형|최초 모집공고 입주일로부터 10년 임대기간 종료 후 분양 전환되어 소유권을 이전받을 수 있는 주택(최초 모집공고일 : 2017.11.30)|\\n|임 대 조 건|임대조건은 임대보증금 및 월 임대료로 구성되며, 임대보증금과 월 임대료는 「공공주택 특별법 시행령」 제44조 및 국토교통부 고시 제 2015-638호에서 규정한 표준임대보증금, 표준임대료 이하에서 결정|\\n|분양전환가격|2개 감정평가법인이 평가한 해당 주택의 감정평가금액을 산술평균한 금액으로 하되, 감정평가법인 선정은 「공공주택 특별법 시행 규칙」 별표7의 “공공건설임대주택 분양전환가격의 산정기준 제2호 나목”을 적용|\\n|유 의 사 항|- 입주자는 「공공주택 특별법」 제50조의3에 따라 분양전환 당시까지 거주하고 분양전환 당시 임차인 본인 및 임차인이 속한 세대의 세대구성원 전원이 무주택 요건을 갖추어야 분양전환 자격이 부여되며, 임차권을 다른 사람에게 양도하거나 임대주택을 전대할 수 없음(단, 「공공주택특별법」 제49조의4에서 규정하고 있는 근무, 생업, 질병치료 등 예외사항 발생시에는 양도하거나 전대할 수 있음) - 임대차계약은 2년마다 갱신하며, 계약갱신시 임대보증금과 월 임대료는 「주택임대차보호법」에서 정한 범위내에서 주거비 물가지수 등을 고려하여 증액될 수 있음|\\n\\n\\n-----\\n\\n|당첨자 발표 (서류제출대상자)|서류접수|계약체결 안내|\\n|---|---|---|\\n|2025.04.18(금) (17:00)|2025.04.21(월) ~ 04.23(수) (등기우편) ※우체국 소인일자는 2025.04.23(수)이내인 경우만 유효합니다.|자격검증 및 소명완료후 별도 개별안내|\\n||울산광역시 남구 중앙로 179, 2층||\\n\\n\\n-----\\n\\n|블록 B3|주택형|타입|발코니 유형|세대당 주택면적(㎡)|Col6|Col7|Col8|Col9|공유 대지 면적 (㎡)|건설 호수|금회 공급호수|최고 층수|최초 입주|\\n|---|---|---|---|---|---|---|---|---|---|---|---|---|---|\\n|||||공급면적||그 밖의 공용면적||계약 면적 (계)||||||\\n|||||주거 전용|주거 공용|기타 공용|지 하 주차장||||당첨자|||\\n||합 계|||||||||404|29||‘20.02|\\n||084.9700A|84A1|확장|84.97|21.6141|5.4780|31.1304|143.1925|63|330|25|25||\\n|||84A2|확장|84.97|21.6141|5.4780|31.1304|143.1925|63|||25||\\n||084.9800B|84B1|확장|84.98|21.6167|5.4787|31.1341|143.2095|63|74|4|25||\\n|||84B2|확장|84.98|21.6167|5.4787|31.1341|143.2095|63|||25||\\n\\n\\n- **임대기간**\\n\\n**•** 이 주택의 **임대기간은 최초 입주일로부터 10년(최초 모집공고일 : 2017.11.30.)이며, 임대기간 종료 후 분양 전환되는 주택입니다.**\\n\\n**•** 이 주택의 임대차계약기간은 2년이며, 계속 거주를 희망하는 경우에는「공공주택 특별법」등 관계법령에서 정한 입주자요건을 충족하는 분에 한하여 2년 단위\\n\\n로 임대차계약을 갱신할 수 있습니다. **(단, 분양전환 시까지 잔여기간이 2년 미만인 경우 그 잔여기간을 임대차계약기간으로 함)**\\n\\n - **임대조건(임대보증금 및 월 임대료)** (단위: 천원)\\n\\n**임대보증금**\\n\\n**블록** **주택형** **타입** **계약금** **잔금** **월임대료**\\n\\n**합계**\\n\\n(계약 시, 20%) (입주지정기간내 입주 시, 80%)\\n\\n84A1\\n**084.9700A**\\n\\n84A2\\n\\nB3 57,585,000 11,517,000 46,068,000 649,140\\n\\n84B1\\n**084.9800B**\\n84B2\\n\\n※ 상기 임대조건은 최초 임대차계약기간(2년)의 임대조건이며, 임대차계약 갱신 시 임대보증금 및 월임대료는「주택임대차보호법」에서 정한 범위 내에서 증액될\\n\\n수 있습니다.\\n\\n※ 상기 임대조건은 동별․층별․향별․측 세대 구분에 따른 차등이 없으며, 발코니 확장 및 외부샤시 설치비용이 포함되어 있습니다.\\n\\n※ 임대보증금은 이자 없이 예치하여야 하며 예치한 임대보증금은 임대차계약이 종료되거나 해제 또는 해지되어 임차인이 임대인에게 주택을 명도함과 동시에 반환됩니다.\\n\\n※ **임대조건의 임대보증금 및 월 임대료는 모집공고일 현재 기준이며, 임대차계약을 체결하는 시점에 당해 주택의 임대조건이 변경된 때에는 변경된 임대조건으로 계약하셔야**\\n**합니다.**\\n\\n- 임대보증금과 월임대료간 상호전환 안내\\n\\n**•** 일정범위 내에서 임대보증금 100만원 단위로 상호전환 가능하며, 임대보증금 전환신청에 관한 자세한 사항은 입주 전 개별 안내드릴 예정입니다.\\n\\n**• 임대보증금과 월임대료 간 상호전환은** **입주 시점 LH공사의 전환기준 및 전환요율(변경가능)에 따라 결정되며, 향후 전환요율이 변경된 이후에 전환하는 전환보**\\n\\n증금(임대료)에 대해서는 변경된 요율을 적용하게 됩니다. 아래의 예시는 현재기준으로 신청자의 이해를 돕기 위한 것으로 입주 시 실제 전환가능 임대보증금 및\\n\\n월임대료는 예시와 다를 수 있음을 유념하여 주시기 바랍니다.\\n\\n|블록|주택형|타입|임대보증금|Col5|Col6|월임대료|\\n|---|---|---|---|---|---|---|\\n||||합계|계약금 (계약 시, 20%)|잔금 (입주지정기간내 입주 시, 80%)||\\n|B3|084.9700A|84A1|57,585,000|11,517,000|46,068,000|649,140|\\n|||84A2|||||\\n||084.9800B|84B1|||||\\n|||84B2|||||\\n\\n\\n-----\\n\\n|주택형|타입|최대 추가납부 가능 보증금액|보증금 최대 추가납부 시 월임대료 차감액|보증금 최대 추가납부 시 임대보증금|보증금 최대 추가납부 시 월임대료|\\n|---|---|---|---|---|---|\\n|084.9700A|84A1|77,000,000|385,000|134,585,000|264,140|\\n||84A2|||||\\n|084.9800B|84B1|||||\\n||84B2|||||\\n\\n|블록|주택형|타입|최대 추가납부 가능 임대료액|임대료 최대 추가납부 시 보증금 환급액|임대료 최대 추가납부 시 임대보증금|임대료 최대 추가납부 시 월임대료|\\n|---|---|---|---|---|---|---|\\n|B3|084.9700A|84A1|113,750|39,000,000|18,585,000|762,890|\\n|||84A2|||||\\n||084.9800B|84B1|||||\\n|||84B2|||||\\n\\n\\n\\n - 공공주택 특별법 시행규칙」제26조에 의거 주택가격을 산정 ․ 공고하며, 아래 주택가격은 **분양전환가격과는 관련이 없습니다.** (단위: 천원)\\n\\n**블록** **주택형** **타입** **합계** **택지비** **건축비**\\n\\n84A1 186,447 43,003 143,445\\n**084.9700A**\\n\\n84A2 186,447 43,003 143,445\\n\\nB3\\n\\n84B1 186,055 43,008 143,047\\n**084.9800B**\\n\\n84B2 186,055 43,008 143,047\\n\\n※ 당해 주택은 주택도시기금을 지원(세대당 75,000천원)받아 건설하는 주택으로, 동 주택도시기금이 분양전환 시 계약자에게 대환되는 경우 융자금의 한도, 상환조건\\n및 이율 등은「주택도시기금 운용 및 관리규정」에 따릅니다.\\n\\n- 10년 공공임대주택 분양전환 기준\\n\\n**구 분** **분양전환 기준**\\n\\n「공공주택 특별법 시행령」 제55조에 의거 입주일 이후부터 분양전환 당시까지 당해 임대주택에 거주한 무주택자인\\n\\n**• 분양전환 대상자**\\n\\n임차인(임차인 본인 및 임차인이 속한 세대의 세대구성원 전원이 무주택이어야 함)\\n\\n**• 분양전환시기** 최초 입주지정기간 종료일이 속하는 월의 다음달 1일부터 10년 이후\\n\\n분양하기로 결정한 날을 기준으로 2인의 감정평가업자가 평가한 당해 주택의 감정평가금액의 산술평균금액으로 산정하되\\n\\n**• 분양전환가격 산정기준**\\n\\n감정평가업자선정은「공공주택 특별법 시행규칙」 별표7의 \"공공건설임대주택 분양전환가격의 산정기준 제2호 나목\" 적용\\n\\n**• 분양전환 시 수선범위** 장기수선계획 수립대상 중 수선주기가 도래한 항목[단, 장기수선(특별수선)충당금 범위 내]\\n\\n### Ⅱ 신청기준\\n\\n###### 주택소유여부 확인방법 및 판정 기준(주택공급에 관한 규칙 제53조)\\n\\n**금회 공급되는 주택의 신청자격인 \\'무주택\\' 여부는 아래기준으로 판단하며, 주택소유여부 전산검색 및 주민등록표등본 확인 결과 부적격자로 판명된 분이 판명내용이**\\n\\n**사실과 다르거나 이의가 있을 경우에는 소명기간(우리 공사가 소명요청을 안내한 날부터 7일) 내에 아래 기준에 근거하여 소명자료를 제출하여야 하며, 정당한 사유 없이**\\n\\n**동 기한 내에 소명자료를 제출하지 아니하거나 소명이 인정되지 않는 경우 입주자 지위 상실 및 계약체결이 불가합니다.**\\n\\n - **확인방법**\\n\\n세대구성원 전원을 대상으로 국가 및 지자체가 보유하고 있는 공적자료를 조회하여 모집공고일 이후 주택 및 ‘분양권등’ 소유 여부를 확인\\n\\n###### ￭ 주택 및 ‘분양권등’의 범위\\n\\n가. 건물등기부등본, 건축물대장등본, 과세자료 등에 등재된 전국 소재 주택\\n(* 주택의 공유지분이나 주택용도가 있는 복합건물도 주택으로 봄)\\n나. 분양권등(「부동산 거래신고 등에 관한 법률」 제3조제1항제2호 및 제3호에 해당하는 주택에 관하여 주택을 공급받는 사람으로 선정된 지위, 주택의 입주자로\\n\\n선정된 지위 또는 이러한 지위의 전부 또는 일부를 매매를 통해 취득하고 있는 경우)\\n\\n￭ **주택 및 ‘분양권등’의 소유 기준일 (제1호와 제2호의 일자가 상이할 경우, 먼저 처리된 날을 기준으로 함)**\\n\\n1. 건 물 : 등기건물인 경우 건물등기부등본상 등기접수일이며 미등기인 경우 건축물대장상 처리일(건물등기부와 건출물대장상 날짜가 상이한 경우 먼저 처\\n\\n리된 날)\\n\\n2. 분양권등 : 「부동산 거래신고 등에 관한 법률」 제3조에 따른 신고서상 공급계약체결일, 분양권을 매수한 경우에는 신고서상 매매대금 완납일\\n\\n###### ￭ 주택 또는 ‘분양권등’을 소유한 것으로 보지 않는 경우(무주택으로 인정하는 경우)\\n\\n**※ 지분소유시에도 주택소유로 인정**\\n① 상속으로 인하여 주택의 공유지분을 취득한 사실이 판명되어 사업주체(LH)로부터 부적격자로 통보받은 날부터 3월 이내에 그 공유지분을 처분한 경우\\n\\n② 도시지역이 아닌 지역 또는 면의 행정구역(수도권은 제외)에 건축되어 있는 주택으로서 다음 각 항의 1에 해당하는 주택의 소유자가 당해주택건설지역에\\n\\n거주(상속으로 주택을 취득한 경우에는 피상속인이 거주한 것을 상속인이 거주한 것으로 봄)하다가 다른 주택건설지역으로 이주한 경우\\n가. 사용승인후20년이경과된단독주택\\n\\n|블록|주택형|타입|합계|택지비|건축비|\\n|---|---|---|---|---|---|\\n|B3|084.9700A|84A1|186,447|43,003|143,445|\\n|||84A2|186,447|43,003|143,445|\\n||084.9800B|84B1|186,055|43,008|143,047|\\n|||84B2|186,055|43,008|143,047|\\n\\n|구 분|분양전환 기준|\\n|---|---|\\n|• 분양전환 대상자|「공공주택 특별법 시행령」 제55조에 의거 입주일 이후부터 분양전환 당시까지 당해 임대주택에 거주한 무주택자인 임차인(임차인 본인 및 임차인이 속한 세대의 세대구성원 전원이 무주택이어야 함)|\\n|• 분양전환시기|최초 입주지정기간 종료일이 속하는 월의 다음달 1일부터 10년 이후|\\n|• 분양전환가격 산정기준|분양하기로 결정한 날을 기준으로 2인의 감정평가업자가 평가한 당해 주택의 감정평가금액의 산술평균금액으로 산정하되 감정평가업자선정은「공공주택 특별법 시행규칙」 별표7의 \"공공건설임대주택 분양전환가격의 산정기준 제2호 나목\" 적용|\\n|• 분양전환 시 수선범위|장기수선계획 수립대상 중 수선주기가 도래한 항목[단, 장기수선(특별수선)충당금 범위 내]|\\n\\n\\n-----\\n\\n|무주택|주택 또는 분양권등*을 소유하고 있지 아니할 것 * 분양권등이라 함은 주택을 공급받는 자로 선정된 지위 또는 재건축등으로 입주자로 선정된 지위를 의미하며 이러한 지위의 전부 또는 일부를 매매로 취 득한 경우도 포함(단 매매가 아닌 상속, 증여 등을 통해 취득한 분양권등은 제외)|\\n|---|---|\\n|세대구성원|▪ 세대구성원의 범위 세대구성원(자격검증대상) 비고 • 신청자 • 신청자의 배우자 신청자와 주민등록 상 세대 분리되어 있는 배우자(이하 ‘분리배우자’) 포함 • 신청자의 직계존속 • 신청자의 배우자의 직계존속 신청자와 세대별 주민등록표상에 함께 등재되어 있는 사람 및 신청자의 분리배우자와 • 신청자의 직계비속 세대별 주민등록표상에 함께 등재되어 있는 사람에 한함 • 신청자의 직계비속의 배우자 • 신청자의 배우자의 직계비속 신청자와 세대별 주민등록표상에 함께 등재되어 있는 사람에 한함|\\n\\n\\n불법양도・전대자 재입주 금지 규정(공특법시행규칙 제49조의8)에 따라 신청자의 세대구성원중에 과거에 공공임대 주택 임차인 으로서 불법양도・전대 행위로 적발된 후 4년이 경과\\n\\n되지 않은 자가 있는 경우 신청자는 공공임대주택 입주자로 선정 불가)\\n\\n- **당첨자 선정방법**\\n\\n  - **주택형별 접수기간 내 접수자 전원을 대상으로 우리공사 입주자선정 컴퓨터프로그램에 의해 입주자를 무작위 추첨하여 대상자를 결정함**\\n\\n**- 선정절차**\\n\\n당첨자 입주자격 소명 접수\\n\\n신 청 제출서류 입주자격 조사\\n\\n(서류제출대상자) 부적격사유 및 심사 계약체결 안내\\n\\n(인터넷･ 접수 (주택 및 분양권등\\n\\n발표 소명 요청 (LH울산권주거복 (개별통보)\\n\\n모바일) (LH청약플러스) (등기우편 접수) 소유여부) (개별통보) 지지사)\\n\\n### Ⅳ 신청시 확인사항\\n\\n###### 재당첨 제한 및 임차권 양도 ․ 전대 금지\\n\\n- 금회 공급되는 주택의 **입주자로 선정되어 계약체결한 자는 당첨자로 전산관리(한국부동산원) 되며, 당첨자 본인은 물론 당첨자의 세대구성원(주민등록이 분리된 배**\\n\\n우자 및 세대원 포함)은 당첨일(계약체결일)로부터 향후 3년 동안 다른 분양주택(일정기간 경과 후 분양 전환 되는 임대주택 포함하며, 민영주택의 경우에는 투기과열\\n\\n지구 및 청약과열지구에서 공급하는 경우에 한함)의 입주자로 선정될 수 없습니다.\\n\\n- 거짓이나 그 밖의 부정한 방법으로 임대주택을 임대받거나 받게 한 분 또는「공공주택 특별법」을 위반하여 임차권을 양도하거나 임대주택을 전대한 분 및 이를 알\\n\\n선한 분에 대하여는 「공공주택 특별법」제57조의 3에 의거 3년 이하의 징역 또는 3천만원 이하의 벌금에 처하게 되며 당해 임대주택에 대하여는 임대차계약 해지\\n\\n후 퇴거 조치합니다.\\n\\n\\n-----\\n\\n### Ⅵ 신청방법\\n\\n##### [인터넷 ∙\\n\\n**■ 인터넷 신청방법**\\n\\n\\n-----\\n\\n### Ⅶ 당첨자 발표 및 서류제출, 계약 체결 등\\n\\n###### 당첨자 발표, 서류제출 및 계약체결 일정\\n\\n- 일정 및 장소\\n\\n**- 당첨자는 아래 서류제출 기한 내에 관련 서류를 제출하여야 하며 미제출시 계약할 수 없습니다.**\\n\\n**당첨자(서류제출대상자) 발표** **서류제출 기간** **서류제출 방법** **계약체결**\\n\\n**2025.04.21(월) ~ 04.23(수)** **등기우편** **자격검증 및 소명 후 별도 안내**\\n\\n**2025.04.18(금) 17:00**\\n\\n     - LH 청약플러스 - **서류제출 장소 : (우) 44676 울산광역시 남구 중앙로 179, 2층**\\n\\n(https://apply.lh.or.kr) **LH 울산권주거복지지사 공공임대담당자앞**\\n\\n*** 등기우편 :** **우체국 소인기준(2025.04.23 소인까지 유효)**\\n\\n**서류제출대상자 확인 방법**\\n\\nLH 청약플러스(https://apply.lh.or.kr) → 인터넷 청약 → 청약결과조회 → 당첨/낙찰자조회\\n\\n인터넷\\n\\n(공동인증서 로그인하신 경우는 마이페이지에서 확인가능)\\n\\nARS 고객전화 연결(1661-7700) → 주민등록번호 입력 → 당첨여부 안내\\n\\n※ 서류제출대상자 명단은 SMS 안내 및 LH 청약플러스에 개별 게시하나, 안내 착오 가능성이 있어 전화문의에는 응답할 수 없으므로 LH 청약플러스\\n\\n(https://apply.lh.or.kr) 또는 ARS(1661-7700)로 신청자 본인이 직접 확인하시기 바랍니다.\\n\\n※ 서류제출대상자는 서류제출 기한 내에 관련 서류를 제출하여야 하고, 미제출시 계약이 불가하며, 계약체결기간 내에 정당한 사유 없이 계약체결하지 않을 경우\\n\\n계약포기로 간주합니다.\\n\\n※ 주택소유여부등 전산검색 결과 적격 당첨자에 한하여 계약을 체결하고, 부적격자는 적격당첨임을 소명하는 서류 제출 후 적격자로 인정받은 경우에만 계약 체결이\\n\\n가능합니다.\\n\\n※ **계약 후라도 부적격자는 부적격자가 아님을 증명 할 수 있는 서류를 제출하여야 하고 미제출시 계약이 취소됩니다.**\\n\\n※ 공급 등에 대한 안내는 청약 시 기재된 연락처를 기준으로 안내함에 따라 연락처가 변경되거나 착오기재하신 분은 LH 부산울산지역본부 울산권주거복지지사\\n\\n에 본인의 연락처(주소, 전화번호)를 고지하여야 하고, 고지하지 않을 경우 주소불명 등의 사유로 당첨자 공급에서 제외될 수 있으며, 이에 대하여 우리공사\\n\\n에서는 책임지지 않습니다\\n\\n###### 당첨자 제출서류\\n\\n- 안내사항(필독!)\\n\\n|서류제출 기간|서류제출 방법|계약체결|\\n|---|---|---|\\n|2025.04.21(월) ~ 04.23(수)|등기우편|자격검증 및 소명 후 별도 안내|\\n|서류제출 장소 : (우) 44676 울산광역시 남구 중앙로 179, 2층 LH 울산권주거복지지사 공공임대담당자앞 * 등기우편 : 우체국 소인기준(2025.04.23 소인까지 유효)|||\\n\\n\\n-----\\n\\n|■ 당첨자 제출서류|Col2|Col3|Col4|Col5|\\n|---|---|---|---|---|\\n|서류유형||해당서류|발급기준|서류 제출대상 및 유의사항|\\n|필수|추가 (해당자)||||\\n|○ ○ ○ ○|○|① 주민등록표등본 ② 개인정보 수집․이용 제3자 제공동의서 ③ 주민등록표초본 ④ 가족관계증명서|본인 배우자 및 세대구성원 본인 및 세대구성원 본인 본인|※ 반드시 주소변동사항, 세대주와의 관계, 세대원의 전입일/변동일사유, 세대구성사유, 세대원의 이름 및 주민등록번호 등을 전부 포함하여 발급 • 당첨자의 주민등록표등본에 배우자가 등재되어 있지 않은 경우 배우자의 주민등록표등본 제출 ※ 동의서를 미리 작성하여 본인 및 세대구성원 전원이 서명하여 제출하여야 하며, 동의서를 제출하지 않을 경우 사회보장정보시스템을 통한 적격심사가 불가하여 계약 불가함 • 당첨자 및 세대구성원 전원(주민등록표등본상 분리된 배우자 및 그 세대원 포함) • 만14세 이상의 세대구성원은 본인이 직접 서명하고, 만14세 미만의 세대구성원은 보호자(법정대리인)가 서명함 ※ 반드시 인적사항 변경 내용, 주소변동 사항, 세대주성명/관계 등을 전부 포함하여 발급 ※ 반드시 주민등록번호를 포함하여 발급|\\n\\n|구 분|계약서류|\\n|---|---|\\n|본인 및 배우자 계약 시|① 계약금 입금 확인서류(무통장입금 또는 인터넷뱅킹) - 입금계좌번호는 계약체결 안내 시 안내예정(현장수납 불가)|\\n||② 당첨자의 신분증 (주민등록증, 운전면허증, 여권) ※ 본인 계약 시는 본인의 신분증만 제출, 배우자 계약시는 본인 및 배우자의 신분증 제출|\\n||③ 당첨자의 도장 (본인 계약시 서명날인도 가능, 배우자 계약시 서명 불가)|\\n||④ 배우자 계약시 배우자임을 알 수 있는 가족관계증명서|\\n|제3자 대리계약 시|본인 및 배우자 이외에는 모두 대리계약자(직계존․비속 포함)로 간주되며, 본인 및 배우자 계약 시 계약서류와 함께 아래 서류를 추가 제출|\\n||① 위임장(신청자의 인감도장이 날인된 위임장) 또는 신청자 본인서명사실확인서(수임인 서명란에 대리인 성명을 반드시 명기)|\\n||② 본인(신청자) 인감증명서(본인 발급용) 또는 본인(신청자)이 자필 서명한 위임장(본인서명사실확인서상의 서명일 것)|\\n||③ 본인(신청자) 인감도장(본인서명사실확인서 첨부시 불요)|\\n||④ 본인(신청자) 및 대리인의 신분증(주민등록증, 운전면허증, 여권만 인정)|\\n\\n|■ 당첨자 제출서류 서류유형 추가 해당서류 발급기준 서류 제출대상 및 유의사항 필수 (해당자) ※ 반드시 주소변동사항, 세대주와의 관계, 세대원의 전입일/변동일사유, 세대구성사유, 세대원의 이름 및 ○ 본인 주민등록번호 등을 전부 포함하여 발급 ① 주민등록표등본 배우자 및 ○ • 당첨자의 주민등록표등본에 배우자가 등재되어 있지 않은 경우 배우자의 주민등록표등본 제출 세대구성원 ※ 동의서를 미리 작성하여 본인 및 세대구성원 전원이 서명하여 제출하여야 하며, 동의서를 제출하지 않을 경우 ② 개인정보 수집․이용 본인 및 사회보장정보시스템을 통한 적격심사가 불가하여 계약 불가함 ○ 제3자 제공동의서 세대구성원 • 당첨자 및 세대구성원 전원(주민등록표등본상 분리된 배우자 및 그 세대원 포함) • 만14세 이상의 세대구성원은 본인이 직접 서명하고, 만14세 미만의 세대구성원은 보호자(법정대리인)가 서명함 ○ ③ 주민등록표초본 본인 ※ 반드시 인적사항 변경 내용, 주소변동 사항, 세대주성명/관계 등을 전부 포함하여 발급 ○ ④ 가족관계증명서 본인 ※ 반드시 주민등록번호를 포함하여 발급 ■ 제출방법 : 등기우편 제출 ㅇ 등기우편 제출 주소지 : (우) 44676 울산광역시 남구 중앙로 179 2층 LH ※ 등기우편의 경우 우체국 소인 일자가 서류제출 기간 이내(2025.04.21~04.23)인 경우에만 유효합니다. 일반우편은 분실우려가 있으니 꼭 등기우편으로 보내시기 바랍니다. 계약 시 구비서류 ■ 아래의 계약서류는 입주자모집공고일(2025.04.01) 이후 발급분에 한하며, 계약서류 중 1건이라도 미비 시에는 계약이 불가합니다. 구 분 계약서류 ① 계약금 입금 확인서류(무통장입금 또는 인터넷뱅킹) - 입금계좌번호는 계약체결 안내 시 안내예정(현장수납 불가) ② 당첨자의 신분증 (주민등록증, 운전면허증, 여권) 본인 및 배우자 ※ 본인 계약 시는 본인의 신분증만 제출, 배우자 계약시는 본인 및 배우자의 신분증 제출 계약 시 ③ 당첨자의 도장 (본인 계약시 서명날인도 가능, 배우자 계약시 서명 불가) ④ 배우자 계약시 배우자임을 알 수 있는 가족관계증명서 본인 및 배우자 이외에는 모두 대리계약자(직계존․비속 포함)로 간주되며, 본인 및 배우자 계약 시 계약서류와 함께 아래 서류를 추가 제출 ① 위임장(신청자의 인감도장이 날인된 위임장) 또는 신청자 본인서명사실확인서(수임인 서명란에 대리인 성명을 반드시 명기) 제3자 ② 본인(신청자) 인감증명서(본인 발급용) 또는 본인(신청자)이 자필 서명한 위임장(본인서명사실확인서상의 서명일 것) 대리계약 시 ③ 본인(신청자) 인감도장(본인서명사실확인서 첨부시 불요) ④ 본인(신청자) 및 대리인의 신분증(주민등록증, 운전면허증, 여권만 인정) • 계약과 관련된 자세한 안내사항은 개별안내됩니다. • 배정되는 동호는 미계약 동·호 발생 시에도 동․호 변경 불가|Col2|Col3|\\n|---|---|---|\\n|Ⅷ||기타 유의사항 및 안내사항|\\n\\n\\n- **주택도시기금과 LH가 출자한 리츠[(주)NHF제12호공공임대위탁관리부동산투자회사, 이하 ㈜NHF제12호]가 사업시행하는 10년 공공임대주택리츠로 LH는 리츠의**\\n\\n**자산관리회사(AMC)로서 건설·공급 및 분양전환 등 제반업무를 수행하며, 계약은 ㈜NHF제12호와 체결합니다.**\\n\\n- 이 공고에 명시되지 않은 사항은「주택법」,「공공주택 특별법」,「주택공급에 관한 규칙」등 관계법령에 따르며, 공고 이외에 주택공급 신청자가 주택공급 신청 시 알아야\\n\\n할 사항은 팸플릿을 통해 확인하시기 바랍니다.\\n\\n- 전화상담 및 청약상담 등은 신청자의 이해를 돕기 위한 것으로 상담내용에 대해 입주자모집공고문 및 관계법령을 통해 신청자 본인이 직접 확인하시기 바라며, 미확\\n\\n인으로 인한 불이익에 대해 LH에 이의를 제기할 수 없습니다.\\n\\n- 신청접수는 **지정된 일자에만 신청접수 가능하므로 반드시 입주자모집공고문의 신청접수일정을 확인하신 후 신청하시기 바라며, 해당 신청접수일에 신청하지 않아**\\n\\n발생되는 불이익은 모두 신청자 본인의 책임입니다.\\n\\n- 신청접수 된 서류는 반환하지 않으며, 신청 후에는 어떠한 경우라도 취소나 정정을 할 수 없으므로 신청접수 시 기재내용과 주택공급신청서에 기재된 내용과의 일치\\n\\n여부를 반드시 대조확인하시기 바랍니다.\\n\\n- 신청접수 및 계약체결 전 단지 및 현장여건을 반드시 확인하시기 바라며, 단지 및 현장여건 미확인으로 인하여 발생되는 사항에 대해서는 추후 이의를 제기할 수 없고\\n\\n단지 및 세대의 시설물 등에 대한 추가나 변경을 요구할 수 없습니다.\\n\\n- 신청 및 계약체결 장소 주변의 각종 상행위(인테리어, 부동산중개 등)는 LH와는 전혀 무관하오니 착오 없으시기 바랍니다.\\n\\n- 입주자로 당첨되신 분은 계약체결 시 당첨자 명단으로 관리되어 3년 재당첨제한 됩니다.\\n\\n- 당첨발표 및 당첨자 서류제출 후 전산검색결과 주택소유, 부적격자로 안내된 분은 안내 내용이 사실과 다르거나 이의가 있을 경우, **소명기간(LH가 소명요청을 통보한**\\n\\n**날로부터 7일 이내)내에 부적격자가 아님을 증명할 수 있는 소명자료를 제출하여야 하며, 정당한 사유 없이** **소명기간 내에 소명자료를 제출하지 아니할 경우 부적격**\\n당첨자로 **불이익을 받게 됩니다.(계약체결 불가, 당첨자 명단관리, 일정기간이 지난 후 분양전환 되는 임대주택을 포함한 다른 분양주택의 입주자로 선정불가)**\\n\\n- **당첨자 서류 제출일에 당첨자 서류를 제출하지 아니할 경우에는 계약체결 불가 등의 불이익을 받으니 반드시 입주자모집공고문의 신청자격, 기준, 일정, 방법,**\\n\\n유의사항 등을 **정확히 확인하신 후 신청하시기 바랍니다.**\\n\\n- 당첨 및 계약체결 후라도 서류의 결격 및 기타 부정한 방법으로 당첨되었을 경우 일방적으로 당첨 및 계약을 취소합니다.\\n\\n- **입주 시 잔금 납부, 이삿짐의 도착, 입주자가 계약자 본인임을 확인한 후 열쇠를 불출하며 입주지정기간 종료일 이후에 입주하는 경우에는 거주여부에 관계없이 입주지**\\n\\n**정기간 종료일 익일부터 임대료(임대주택), 관리비, 입주 잔금에 대한 연체료가 부과됩니다.**\\n\\n- **임대차계약을해제또는해지할경우에는주택임대차계약에따라** **위약금을납부하여야하며납부한입주금반환시** **이자는지급하지않습니다**\\n\\n\\n-----\\n\\n|블록|사업주체(사업자등록번호)|자산관리회사|자산보관회사|시공업체|연대보증인|감리회사|\\n|---|---|---|---|---|---|---|\\n|B3|㈜NHF제12호공공임대 위탁관리부동산투자회사 (764-88-00757)|한국토지주택공사 (129-82-10595)|하나은행(주) (128-85-69380)|대보건설(주)(313-81-02806) 이수건설(주)(206-81-40254)|(공사이행보증서로 대체)|한국토지주택공사 (129-82-10595)|\\n\\n|울산 송정하우스디 계약체결 장소|Col2|\\n|---|---|\\n||■ 위 치 : LH 울산권주거복지지사 대회의실 (울산 남구 중앙로 179, 한화생명 2층) ※ 주차공간이 협소하므로 가급적 대중교통을 이용하여 주시기 바랍니다. ■ 임대문의 : LH콜센터 1600-1004(평일 09:00∼18:00)|\\n\\n\\n### 2025.04.01\\n\\n ■ 시  행  사  : ㈜NHF제12호공공임대위탁관리부동산투자회사\\n\\n ■ 자산관리회사 : 한국토지주택공사\\n\\n\\n-----\\n\\n')]\n"
     ]
    }
   ],
   "source": [
    "print(documents)"
   ]
  },
  {
   "cell_type": "markdown",
   "metadata": {},
   "source": [
    "### 청크분할(langchain사용)"
   ]
  },
  {
   "cell_type": "code",
   "execution_count": 11,
   "metadata": {},
   "outputs": [
    {
     "name": "stdout",
     "output_type": "stream",
     "text": [
      "총 44개의 문서 청크 생성됨.\n",
      "**★ 금회 공급되는 주택에** **계약체결시「주택공급에 관한 규칙」에 따라** **당첨자로 전산관리** **되며,** **계약자 본인은 물론 계약자의 배우자 및 세대원(주민등록표등본**\n",
      "\n",
      "**상에 등재되어 있는 직계존비속 및 주민등록이 분리된 배우자 및 세대원 포함)은 계약일로부터 3년 동안 다른 분양주택(일정기간 경과 후 분양전환 되는**\n",
      "\n",
      "**임대주택 포함하며, 민영주택인 경우에는 투기과열지구 및 청약과열지역에서 공급하는 경우만 해당)의 입주자 및 입주예정자로 선정될 수 없습니다.**\n",
      "\n",
      "**★** **1세대 2인 이상 청약시 중복청약으로 모두 부적격 처리되며,** **해당단지 기계약자 및 그 세대원은 신청할 수 없습니다.**\n",
      "**(당첨자 선정후라도 확인시 당첨자 탈락 처리됨)**\n",
      "\n",
      "**(단, 「주택공급에 관한 규칙」 제4조에 따라 부부가 중복신청하여 모두 입주자로 선정된 경우 선 신청분만 유효합니다.)**\n"
     ]
    }
   ],
   "source": [
    "from langchain.text_splitter import RecursiveCharacterTextSplitter\n",
    "\n",
    "text_splitter = RecursiveCharacterTextSplitter(\n",
    "    chunk_size=500,    # 한 청크의 최대 길이\n",
    "    chunk_overlap=50,  # 겹치는 길이 (문맥 유지를 위해)\n",
    ")\n",
    "\n",
    "\n",
    "docs_split = text_splitter.split_documents(documents)\n",
    "\n",
    "# 결과 확인\n",
    "print(f\"총 {len(docs_split)}개의 문서 청크 생성됨.\")\n",
    "print(docs_split[0].page_content)  # 첫 번째 청크 예시 출력\n"
   ]
  },
  {
   "cell_type": "code",
   "execution_count": 7,
   "metadata": {},
   "outputs": [
    {
     "name": "stdout",
     "output_type": "stream",
     "text": [
      "page_content='###### 송파구, 용산구, 은평구, 종로구, 중구]\n",
      "\n",
      "\n",
      "-----\n",
      "\n",
      "###### ■ 공급대상 주택 : 총 190호\n",
      "\n",
      " • 주택군, 주택별 소재지, 면적, 임대조건 등 세부내역은 첨부 “주택내역” 참조\n",
      "\n",
      "  * 위 공급호수는 기존에 선정된 예비입주자 계약 및 신규 매입물량 추가 등으로 변경될 수 있습니다.\n",
      "\n",
      "  * 청약플러스(https://apply.lh.or.kr) 공고문 페이지에 주택사진이 게시되어 있으므로 참고하시기 바랍니다.\n",
      "\n",
      "  * 아동복지시설(가정위탁 포함) 및 청소년쉼터 퇴소자 수시 우선공급으로 인해 지역별 공급물량이 \n",
      "\n",
      " 감소될 수 있습니다.\n",
      "\n",
      "  * 본 모집공고의 예비입주자로 선정되었다 하더라도 기존 임차인의 퇴거 및 임대공급 시행 전 실시하는\n",
      "\n",
      " 주택 개보수 완료 상황 등에 따라 주택물량이 감소하거나 입주까지 상당기간이 소요될 수 있습니다.\n",
      "\n",
      " ■ 임대기간 및 임대조건\n",
      "\n",
      " 구분 내용' metadata={'source': 'E:/work/MS_project_2/data/test.md'}\n"
     ]
    }
   ],
   "source": [
    "print(docs_split[0])"
   ]
  },
  {
   "cell_type": "markdown",
   "metadata": {},
   "source": [
    "### 임베딩 객체 생성"
   ]
  },
  {
   "cell_type": "code",
   "execution_count": null,
   "metadata": {},
   "outputs": [],
   "source": [
    "from langchain_openai import AzureOpenAIEmbeddings\n",
    "import os\n",
    "\n",
    "embedding_api_key = \"\"\n",
    "embedding_endpoint = \"\"\n",
    "embedding_api_version = \"2024-02-15-preview\"\n",
    "embedding_deployment = \"text-embedding-3-small\"\n",
    "\n",
    "os.environ.pop(\"OPENAI_API_BASE\", None)\n",
    "os.environ.pop(\"BASE_URL\", None)\n",
    "embedding = AzureOpenAIEmbeddings(\n",
    "    api_key=embedding_api_key,\n",
    "    azure_endpoint=embedding_endpoint,\n",
    "    model=embedding_deployment,  # 배포 이름 확인 필수\n",
    "    openai_api_version=embedding_api_version\n",
    ")\n"
   ]
  },
  {
   "cell_type": "markdown",
   "metadata": {},
   "source": [
    "### AI search 연동"
   ]
  },
  {
   "cell_type": "code",
   "execution_count": null,
   "metadata": {},
   "outputs": [],
   "source": [
    "from langchain_community.vectorstores import AzureSearch\n",
    "ai_search_api_key = ''\n",
    "ai_search_index_name = 'pdf_1_index'\n",
    "ai_search_service_name=\"6b034-ai-search\"\n",
    "ai_search_endpoint = ''\n",
    "\n",
    "\n",
    "vectorstore = AzureSearch(\n",
    "    azure_search_endpoint=ai_search_endpoint,\n",
    "    azure_search_key=ai_search_api_key,\n",
    "    index_name=ai_search_index_name,\n",
    "    embedding_function=embedding.embed_query,\n",
    ")\n",
    "\n",
    "\n"
   ]
  },
  {
   "cell_type": "markdown",
   "metadata": {},
   "source": [
    "### 데이터 업로드"
   ]
  },
  {
   "cell_type": "code",
   "execution_count": 13,
   "metadata": {},
   "outputs": [
    {
     "data": {
      "text/plain": [
       "['MGQxODBlZjEtN2EzZC00MDI2LTllNTItOTkyYTQ2MThlYTg2',\n",
       " 'NWQxZWVhZDYtMjZhMy00NzRiLThlMWQtMTc1NDAxNWJiMjk0',\n",
       " 'Yzc3MmM0ZDEtY2Y5NS00NDc1LWEwZmItNGMwMTc2ZTI0OTg0',\n",
       " 'YTFlNjAyNjUtOWVkNS00NjIyLThiNTQtMjUzNzBmMWNmNTg0',\n",
       " 'ODUwZjkyNGYtYzQxYi00MWVhLWFiNzUtZmUwYjM1NDRkOGEy',\n",
       " 'MzE4NjY4YWEtMTIwNy00ZWE2LWFkOTYtZjM1NmJlNmViOTZl',\n",
       " 'NTIxZmFkNjQtMTExOC00ZmQxLTg4NGUtNWM3OWFlZDdkNTlm',\n",
       " 'MGU2ZWUxMDgtZTI3ZC00N2M3LTk0NzYtYjQyNzU0ZmEyZGMw',\n",
       " 'MDRiM2NlNDQtNzNkZi00MmM5LTk2MzMtNzRjMzU2OTU3YmI2',\n",
       " 'ZWU4ZDUyNDAtMGMyZi00NjM4LTkxMTMtMzBhZWViMWYzYjE0',\n",
       " 'YTc0NWY5ZDItZWExOC00Yzk1LWE5N2YtMDc0M2VmMjk1NjJh',\n",
       " 'OGY5MTQ5MTUtNDE1MS00NzJiLTk0NmYtZWY4NDUyYzgxNjUw',\n",
       " 'MzI4MjFjNjAtODEyNy00Mzg5LTg0ZWQtYjUwMzk0ODE4NjJh',\n",
       " 'ZTQwYWM0NmItOTE5OS00YWJmLWE0MTktZmIwNTllMjU1YjE4',\n",
       " 'NTU0ZWI0YzAtM2Y0NC00M2I2LWFhNTMtZjI0MzcwNGRlODc0',\n",
       " 'NzE5YzBkYzktM2ExZi00M2M2LWE0ZGYtOWU4Mjk2M2ZiMjRm',\n",
       " 'ZTZmNGIxYTAtMDdkNy00OGRiLWI4OWEtNjkyNThhYWYzZTEw',\n",
       " 'ZjQzNmZjZTItN2EyNy00YWY4LWE4NzItNmE1ZGEyNzc0YTli',\n",
       " 'Zjk3NTk0NWItNDJmYS00NDRlLTg3ZWEtYjA3ZmZkYTgxYTRh',\n",
       " 'YTIxMjI2MTUtMzZlYS00NjkyLWI3MjUtNTBjZTgwNjhlN2Ez',\n",
       " 'MGZlODE4ODUtNmY3ZC00YTk4LThhMGYtYTJmOGU5OTMwZmVh',\n",
       " 'MjM3YzYwNzItNWNhNC00MjkyLTlhZmMtMThiNDQ4ZjAzNWRl',\n",
       " 'NWY4OGZhNDItYjQwOC00ODhkLTg2M2EtNGNkNThkNDBlZTA3',\n",
       " 'YzBmNzBiNTctZjFjNC00MGM3LThjMjAtMzYxNTA3MmY0Zjkx',\n",
       " 'ZjY2YTgzZGUtY2MwMS00ZTZmLWI5MzAtMjc2ZTgzYjAzYzg3',\n",
       " 'ZjhiZDllNDItY2RmNi00ZjE3LTlhNmQtNmRjYzJiMDBhNWUz',\n",
       " 'YjYwMTVkNTUtM2U2NC00Njg4LTlhN2YtODU4YmEzNWMxN2Jm',\n",
       " 'NTgzMzA1NGQtNjg2OC00NzMxLWFkNTItN2M1MDU3NDlkOTU2',\n",
       " 'MDVhYzU1ZGUtZWM3Mi00Yzk1LTgzOTktMTQzYWI0OTgzY2My',\n",
       " 'ZTFlNDZmZDUtM2RiNC00MjQ3LThjYzctZmRhZmI0OTJjYTcz',\n",
       " 'NzcyN2QxNGItNzMxNy00YTc4LTk2YzYtMmU3ZDI1MjA3ZTVh',\n",
       " 'MDIyNzlmMjQtNzE1Yy00ODU0LWExNmItYjE3NDU0ZmRiZWIz',\n",
       " 'MDNjOTUyYTItZjIyOC00Y2EyLTg2ZmEtNDhmMTAxOTQ5ZTE4',\n",
       " 'MmM0NjRiOGUtMzg4Yi00M2IwLWIyODAtZmRlNzk2MWY0M2Fh',\n",
       " 'MjZhOWNjYWUtMTQxZi00MzVjLTk2Y2ItNzVmYjM0YTlhMWY0',\n",
       " 'Yzg0NzQwMGYtNWRhYi00YzViLWFmMDAtMDM0MjAxZGUxM2Q0',\n",
       " 'MzFjMGM2ZjItZTdlYS00MjlmLThmMzctYmViZjcwNzMzOTRk',\n",
       " 'YjAyYjZhZmItZjYzMS00MzRhLThmYjMtZThiM2E1ZGY1YTZm',\n",
       " 'OGVmMGM5YzEtOGIyOC00NGRkLWE2NTUtMDdmZGQyNjU3NmJi',\n",
       " 'NTg5OGY4OGMtZGY1ZS00OTY3LWI3ZGYtNjYzZDY2MmUxNDAw',\n",
       " 'YjE2OTNiM2YtNTkzYS00MzFhLTlhMmUtNTk0MDk0NDBjN2Ey',\n",
       " 'MzM5MWYwY2YtZWQ4Zi00YmY3LWEyMDItYTMzM2JlZjViNGUz',\n",
       " 'ZjI5MjczNGMtOTVmMC00ZjU5LWE4MmMtNDhmZTU5MmU2ZWE4',\n",
       " 'M2U3MTJiOWUtYWMwYS00YzJhLWJhYmMtYTQ3MTdjZDhkMmNi',\n",
       " 'ZDE4Nzk2YTgtMDE2Ny00M2QxLTk1MjQtN2IyNGM5ZGJjNjdl',\n",
       " 'MDU4YjYyNzYtZGViMy00ZWEzLWJmNmUtMDUzYjNmNWVlNmM4',\n",
       " 'OTI1MTFhNDgtYTcxNS00ZWE1LWFlZWItZmFhMDE5ZjViMzFk',\n",
       " 'ZWI4YjU3NDQtYTYxOS00MDBmLThiZmEtZDczNzMxOGFhNWFk',\n",
       " 'YmJmMjRjZDEtOWMxMi00MTA5LTkzNGItZmVmMjQ3NjhjYmNm',\n",
       " 'ODAyZDkyYTAtOTUwOC00ZjMzLWFjZWMtZjE3MWNmMTAzOThj',\n",
       " 'NjY0ZTExODQtZDliNS00ODczLTk0ZmUtNTFlOTczZWE1YmFj',\n",
       " 'NGFhYjNjMWEtM2M1MC00MTQ5LWJiMWItYTBhYjRkZDU2ZDI3',\n",
       " 'Mzk0M2M2MjMtNDE5Ni00NjY0LWEwNDgtYzg4MjE0YmE1YzA2',\n",
       " 'ZTAxYThkNDUtMTc0MS00ZDExLTk3NjAtMDM5YmU1YzIyZmFj',\n",
       " 'OWU3NTY3N2MtZGNlOC00ODgwLTkwOGEtYzlhNjExMzI3N2Nh',\n",
       " 'MjQ5NGUyYTctYWQwNC00OTRhLTgzY2MtZjU2YTI1NDIwNGMw',\n",
       " 'ZTRiMWFlMTctZTc0Yi00Zjc1LWE4M2QtMzFkZWJlMDgzNWRi',\n",
       " 'ODIyMzc4ZjAtNDUwZS00ZjkyLTlkZTctZDVmYmZiOTk1ODlm',\n",
       " 'YzY3NDIzYTAtNmE0YS00NmVmLWEwNjYtOGEyYjE3ZWE1NmEw',\n",
       " 'YzliMzM2ZmItMGRlOS00NDYyLWExYzItZGMxNGNmOTcwNTli',\n",
       " 'NTZhNDEyZDYtNmE1NS00MTFkLWIxZDEtMjFkNTY0ZmM0ODYw',\n",
       " 'MWFlODZhZDAtNjEzNi00YmZmLWI5YTAtNTEyZmM1ZDJhMjlk',\n",
       " 'MDQyMTdlNWItNWYwNC00YTVmLTg1MjktNGNkZmZmOTY0ODAw',\n",
       " 'ODg3NmI4NDAtMGVlYi00MGMxLWFlOGUtOWI1YzEwNzQwN2Zm',\n",
       " 'NTNlNjM0YzItMTE0MC00ODk5LTljNWYtM2NiZjA2OTkwMDVl',\n",
       " 'OTI3NWJiZmEtNjQ4Mi00ZWI4LWE3ZDktM2EwY2I1N2U3MTQ1',\n",
       " 'ZGFiNTRhZDYtM2E3NC00ZGM4LWJhMjItYmUwMWI0ZTU2MmRk',\n",
       " 'NDI0MDVmZmMtMjY5Yy00OGQ5LWEwYjEtOWJiMmQ0MTgwZjg2',\n",
       " 'YWU4MjQwYzctYzIxNS00NjhjLWEwZGYtNjk1NjFlYzQ5NmRj',\n",
       " 'OTMyZDFmMjgtODNkMi00NDAzLWI1NjgtOGQ1M2NjZjc4OWUy',\n",
       " 'NWJhOWU4MTctNGNjZS00N2EwLWFkZmQtZjA4MWRiMDAyNWU0',\n",
       " 'NDgwZDk1YjYtNWNkNC00OTBjLTljMDQtZjFjYmQ3YWFkNDRi',\n",
       " 'YzM0NWY4NzItY2JkMy00ZjAyLTkyZDYtZjg5MmY4NDMxNThk',\n",
       " 'NTViNmE5ZTUtNjc3OC00MTk4LWE0MjQtZTA4MzY0MGVmZWUw',\n",
       " 'NzIwOGE0ODYtZmMwNi00ZTFhLTlhY2ItN2FmNTNkMDU4YjU2',\n",
       " 'ZjEwMTQyZjEtNTUxZS00ZGRlLTk2YmItZjQ4OGUxNGQyZjY2',\n",
       " 'Yjg2OTllYWYtMjhkZC00ODMyLWIwZjUtYjk4ZGZhMzgzNDEx',\n",
       " 'NTJkOTJkMDgtZjRjZi00MGViLTg5ZWEtMWRmYTBjNjdmMjRh',\n",
       " 'OTJjODU5OTItMzAzOS00ZmZiLTkzMTQtMTAwNDNiNmFlMzk2',\n",
       " 'NTk0NmY3NGQtZTc0Yy00MmMzLWIyMDgtNjhiYTcxZDBkNzE1',\n",
       " 'ZmY5MzUwMDctMWM2NC00YTJjLWJlNzEtM2Q0Yjc5MTg0YmY2',\n",
       " 'M2ZhM2EzOWItNmE1MC00YmU0LTk3Y2QtNGU1NDMwMTA3MGYw',\n",
       " 'NDBmMjdjMTMtMTNhNS00YzMxLTk1NDUtOTBkMDZhZWEwNzkz',\n",
       " 'ZjkwMTIzNjYtNjViYS00YTVkLTgxMTMtNWZlOGIxN2RkMDAx',\n",
       " 'NDdmZTA2ODgtMTY3ZC00ZDk5LWJlMjYtMzZmMmI2ODkwNDFh',\n",
       " 'ZDEzN2UxMjItNmMxNS00YTJhLThhMjItYTVlNjQ0ZTRkOThj',\n",
       " 'OTk0ZWI2YTMtNWI0OC00ZTZhLWI2ZmMtZDAyZDQ1ODJlYTk1',\n",
       " 'Y2RjZmM5NmEtOTZiZC00N2Y3LWFlZTEtMzU1YzljNTM4MDVh',\n",
       " 'MmZjZDRmZWQtNjBmMS00OTBmLTg2ZDYtODhlMDgwZDQ2NWFm',\n",
       " 'ZDlkMDY5MDQtMTRhYy00NDQ0LTg4MGQtYThmYzdkYzRlMzhh',\n",
       " 'NzI4ZTg2ODEtMWY0Ny00NmM5LWJmOTEtZmVmNmM3Zjg1Y2U1',\n",
       " 'YzliODhkZGEtNDU2Mi00MDk2LTkyYjQtYjRjYjkyMzRhOTA1',\n",
       " 'ZDg2Yzg2ZDctZTUwZi00NmY0LTllMjAtYTQzY2Q3YjViYTI2',\n",
       " 'MjE3NTQwNGItODkxZS00MjdlLTkyZWQtZTkyNTIwYWQ4NmE4',\n",
       " 'MGE2MmM4ZmUtYmM3MS00Y2Y0LTk5MDctMWZlNjhmMTI1NmU4',\n",
       " 'MWRkOWE5YTQtY2QyOS00M2NjLWI2YjUtZmE0OTA4MjJmMzAz',\n",
       " 'YThjMDIzMDAtMWNkYS00MzU5LWIwYTUtOTE0N2Q2YjI2YzAw',\n",
       " 'NzE1MzcxOTUtYjVmOS00ZDRjLTg4MDYtZjgwOGMwYWMwY2U0',\n",
       " 'ZWNmMDdmODUtNjA0OC00NTY5LWJmNzYtNmEzMWFiOTZjYzcz',\n",
       " 'MDljM2E2NWYtYzg0YS00ODA5LTlkNzUtMGJhN2U1NDQzNDFi',\n",
       " 'NmI1MTNjZTItOWZmNi00ZWU0LWI4MjAtYWQ0NTIxNzliNGU4',\n",
       " 'ZGEyMGE3YTItMDAyYS00MmRkLWE3NWMtODRmNjMyMzUwMjNh',\n",
       " 'N2VjM2RjNTYtOTMxMS00MjdmLTg0Y2EtZTcwODVmZDM0NjFl',\n",
       " 'OTRmMmQ3ZTgtMTExYi00NGRiLTg2MTEtMjI2OWUyMTc0NzFm',\n",
       " 'NDdiOGE4MTktYmUyZS00MWU4LWEwMzEtZjAxNzdhMmUyMGI5',\n",
       " 'NGI2ZTM5MDQtMzlhOC00N2NmLTkyNjAtMTg5ZGM4Y2I3ZGUw',\n",
       " 'ZGE0MGE1NmQtMzNhMS00OTU2LTk5YzgtMTE0N2IxMmI0MTRj',\n",
       " 'MGRmZjYyYmItMjkyYi00ZWFjLWE3Y2EtZGY2NjA2YmU1Y2Rl',\n",
       " 'ZmI5ZDllNDYtOWNjZi00NjM5LTg3NTUtY2Y3OGJlNmQyMGQ1',\n",
       " 'NWRmNDQyYWEtM2QyMy00ODY5LWFjOGUtYjU1YTg3YjFiNmJk',\n",
       " 'NmRiMGU5ZWItODNhOC00MTk1LTkzNjQtMjA4YzJjOWEyYjBj',\n",
       " 'OWJkZmViYmYtNWRjNi00N2QzLTljMWUtZDBjNWJjOTc4MGM5',\n",
       " 'MGRiZTM5MWItMWJlOC00NmM3LTkyODQtZmIxMmViNDJmNWJk',\n",
       " 'OTQ1YTc3Y2YtOGMxZi00M2RlLThiNDQtOGE4ZWNjYzY2ODMz',\n",
       " 'YjdkMTAxYzUtYmIzOS00OWZiLWFjZDgtMmNlMWVkNTU2Mzk1',\n",
       " 'ODY0ZjA0YTMtM2JhNi00YWJlLWFhYTktZGQzYjg4OWFiNzVm',\n",
       " 'NDQ5MDQ1ZjktNzhkMi00Y2EwLWJkMjUtOTVmZTQyNjhhYzRi',\n",
       " 'MjZkZTI0OTUtZTNkYy00ZjA3LTkwOWYtNmVkNWIzMzEzZjRm',\n",
       " 'MDJkNjBlNzctYzgxYy00MDg0LTg1YmMtOWZmOGYzYjg2Zjgy',\n",
       " 'YjRkY2ZjMDYtNTNjMC00YmUzLWE4N2UtMzA3ZTBkODA5YWE1',\n",
       " 'YjY4YzU4ODYtNjI5NC00Y2YzLTliMjEtODgyYTM0MTdhN2Jm',\n",
       " 'Y2E5NGNkMzAtM2MzMC00MmZmLWJkZTQtOTM5MTI3MDRlZGRk',\n",
       " 'NjE0NzUxZDgtYWRlMi00YjdkLWIyNzMtMTc2OGUxMzQ4YjVk',\n",
       " 'MzFmYjZlODQtMmZlNi00NTM0LTkzNjUtYzY2MDhlMjQ5MGVl',\n",
       " 'ZDk1OTJjNzktMDIyOC00ZjUxLWFkNmItNjZjMzRjMTQ0YjA3']"
      ]
     },
     "execution_count": 13,
     "metadata": {},
     "output_type": "execute_result"
    }
   ],
   "source": [
    "vectorstore.add_documents(docs_split)"
   ]
  },
  {
   "cell_type": "markdown",
   "metadata": {},
   "source": [
    "### 확인"
   ]
  },
  {
   "cell_type": "code",
   "execution_count": 1,
   "metadata": {},
   "outputs": [
    {
     "ename": "NameError",
     "evalue": "name 'vectorstore' is not defined",
     "output_type": "error",
     "traceback": [
      "\u001b[1;31m---------------------------------------------------------------------------\u001b[0m",
      "\u001b[1;31mNameError\u001b[0m                                 Traceback (most recent call last)",
      "Cell \u001b[1;32mIn[1], line 2\u001b[0m\n\u001b[0;32m      1\u001b[0m query \u001b[38;5;241m=\u001b[39m \u001b[38;5;124m\"\u001b[39m\u001b[38;5;124m신청 조건은 어떻게 돼?\u001b[39m\u001b[38;5;124m\"\u001b[39m\n\u001b[1;32m----> 2\u001b[0m results \u001b[38;5;241m=\u001b[39m \u001b[43mvectorstore\u001b[49m\u001b[38;5;241m.\u001b[39msimilarity_search(query, k\u001b[38;5;241m=\u001b[39m\u001b[38;5;241m3\u001b[39m)\n\u001b[0;32m      4\u001b[0m \u001b[38;5;28;01mfor\u001b[39;00m i, doc \u001b[38;5;129;01min\u001b[39;00m \u001b[38;5;28menumerate\u001b[39m(results):\n\u001b[0;32m      5\u001b[0m     \u001b[38;5;28mprint\u001b[39m(\u001b[38;5;124mf\u001b[39m\u001b[38;5;124m\"\u001b[39m\u001b[38;5;130;01m\\n\u001b[39;00m\u001b[38;5;124m🔍 Top \u001b[39m\u001b[38;5;132;01m{\u001b[39;00mi\u001b[38;5;241m+\u001b[39m\u001b[38;5;241m1\u001b[39m\u001b[38;5;132;01m}\u001b[39;00m\u001b[38;5;124m:\u001b[39m\u001b[38;5;130;01m\\n\u001b[39;00m\u001b[38;5;132;01m{\u001b[39;00mdoc\u001b[38;5;241m.\u001b[39mpage_content\u001b[38;5;132;01m}\u001b[39;00m\u001b[38;5;124m\"\u001b[39m)\n",
      "\u001b[1;31mNameError\u001b[0m: name 'vectorstore' is not defined"
     ]
    }
   ],
   "source": [
    "query = \"신청 조건은 어떻게 돼?\"\n",
    "results = vectorstore.similarity_search(query, k=3)\n",
    "\n",
    "for i, doc in enumerate(results):\n",
    "    print(f\"\\n🔍 Top {i+1}:\\n{doc.page_content}\")\n"
   ]
  },
  {
   "cell_type": "code",
   "execution_count": null,
   "metadata": {},
   "outputs": [],
   "source": []
  }
 ],
 "metadata": {
  "kernelspec": {
   "display_name": "deep",
   "language": "python",
   "name": "python3"
  },
  "language_info": {
   "codemirror_mode": {
    "name": "ipython",
    "version": 3
   },
   "file_extension": ".py",
   "mimetype": "text/x-python",
   "name": "python",
   "nbconvert_exporter": "python",
   "pygments_lexer": "ipython3",
   "version": "3.8.20"
  }
 },
 "nbformat": 4,
 "nbformat_minor": 2
}
