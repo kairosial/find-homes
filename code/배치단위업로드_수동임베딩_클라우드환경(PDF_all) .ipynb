{
 "cells": [
  {
   "cell_type": "markdown",
   "metadata": {},
   "source": [
    "### 데이터 불러오기"
   ]
  },
  {
   "cell_type": "code",
   "execution_count": 1,
   "metadata": {},
   "outputs": [
    {
     "name": "stdout",
     "output_type": "stream",
     "text": [
      "Processing E:/work/MS_project_2/data/new_pdfs\\(대전충남)25년1차청년매입임대_표준입주자모집공고문.pdf...\n",
      "[                                        ] (0/1==[===                                     ] ( 1/1==[======                                  ] ( 2/13==[=========                               ] ( 3/1==[============                            ] ( 4/13==[===============                         ] ( 5/1==[==================                      ] ( 6/13==[=====================                   ] ( 7/1==[========================                ] ( 8/13==[===========================             ] ( 9/1==[==============================          ] (10/13==[=================================       ] (11/1==[====================================    ] (12/13===[========================================] (13/13]\n",
      "Processing E:/work/MS_project_2/data/new_pdfs\\(정정공고문)25년1차청년매입임대_표준입주자모집공고문.pdf...\n",
      "[                                        ] (0/1=[==                                      ] ( 1/14==[=====                                   ] ( 2/1==[========                                ] ( 3/14==[===========                             ] ( 4/1==[==============                          ] ( 5/14==[=================                       ] ( 6/1==[====================                    ] ( 7/14=[======================                  ] ( 8/14==[=========================               ] ( 9/1==[============================            ] (10/14==[===============================         ] (11/1==[==================================      ] (12/14==[=====================================   ] (13/1==[========================================] (14/14]\n",
      "Processing E:/work/MS_project_2/data/new_pdfs\\2025년 1차 대구경북 청년매입임대 입주자 모집 공고문.pdf...\n",
      "[                                        ] (0/2[=                                       ] ( 1/2=[===                                     ] ( 2/2[====                                    ] ( 3/25=[======                                  ] ( 4/25=[========                                ] ( 5/25[=========                               ] ( 6/2=[===========                             ] ( 7/2[============                            ] ( 8/25=[==============                          ] ( 9/25=[================                        ] (10/25[=================                       ] (11/2=[===================                     ] (12/2[====================                    ] (13/25=[======================                  ] (14/25=[========================                ] (15/25[=========================               ] (16/2=[===========================             ] (17/2[============================            ] (18/25=[==============================          ] (19/25=[================================        ] (20/25[=================================       ] (21/2=[===================================     ] (22/2[====================================    ] (23/25=[======================================  ] (24/25=[========================================] (25/25]\n",
      "Processing E:/work/MS_project_2/data/new_pdfs\\2025년1차청년매입임대입주자모집공고문(광주전남).pdf...\n",
      "[                                        ] (0/2[=                                       ] ( 1/2=[===                                     ] ( 2/2=[=====                                   ] ( 3/2[======                                  ] ( 4/24=[========                                ] ( 5/24=[==========                              ] ( 6/24[===========                             ] ( 7/2=[=============                           ] ( 8/2=[===============                         ] ( 9/2[================                        ] (10/24=[==================                      ] (11/24=[====================                    ] (12/24[=====================                   ] (13/2=[=======================                 ] (14/2=[=========================               ] (15/2[==========================              ] (16/24=[============================            ] (17/24=[==============================          ] (18/24[===============================         ] (19/2=[=================================       ] (20/2=[===================================     ] (21/2[====================================    ] (22/24=[======================================  ] (23/24=[========================================] (24/24]\n",
      "Processing E:/work/MS_project_2/data/new_pdfs\\25년 1차 청년매입임대 입주자 모집 공고문(강원지역본부).pdf...\n",
      "[                                        ] (0/2[=                                       ] ( 1/2=[===                                     ] ( 2/2[====                                    ] ( 3/25=[======                                  ] ( 4/25=[========                                ] ( 5/25[=========                               ] ( 6/2=[===========                             ] ( 7/2[============                            ] ( 8/25=[==============                          ] ( 9/25=[================                        ] (10/25[=================                       ] (11/2=[===================                     ] (12/2[====================                    ] (13/25=[======================                  ] (14/25=[========================                ] (15/25[=========================               ] (16/2=[===========================             ] (17/2[============================            ] (18/25=[==============================          ] (19/25=[================================        ] (20/25[=================================       ] (21/2=[===================================     ] (22/2[====================================    ] (23/25=[======================================  ] (24/25=[========================================] (25/25]\n",
      "Processing E:/work/MS_project_2/data/new_pdfs\\25년1차청년매입임대입주자모집공고문.pdf...\n",
      "[                                        ] (0/1==[===                                     ] ( 1/1==[======                                  ] ( 2/13==[=========                               ] ( 3/1==[============                            ] ( 4/13==[===============                         ] ( 5/1==[==================                      ] ( 6/13==[=====================                   ] ( 7/1==[========================                ] ( 8/13==[===========================             ] ( 9/1==[==============================          ] (10/13==[=================================       ] (11/1==[====================================    ] (12/13===[========================================] (13/13]\n",
      "Processing E:/work/MS_project_2/data/new_pdfs\\아츠스테이영등포_입주자모집공고문.pdf...\n",
      "[                                        ] (0/2[=                                       ] ( 1/2=[===                                     ] ( 2/2[====                                    ] ( 3/25=[======                                  ] ( 4/25=[========                                ] ( 5/25[=========                               ] ( 6/2=[===========                             ] ( 7/2[============                            ] ( 8/25=[==============                          ] ( 9/25=[================                        ] (10/25[=================                       ] (11/2=[===================                     ] (12/2[====================                    ] (13/25=[======================                  ] (14/25=[========================                ] (15/25[=========================               ] (16/2=[===========================             ] (17/2[============================            ] (18/25=[==============================          ] (19/25=[================================        ] (20/25[=================================       ] (21/2=[===================================     ] (22/2[====================================    ] (23/25=[======================================  ] (24/25=[========================================] (25/25]\n"
     ]
    }
   ],
   "source": [
    "import os\n",
    "import pymupdf4llm\n",
    "from langchain_community.document_loaders import TextLoader\n",
    "from langchain.text_splitter import RecursiveCharacterTextSplitter\n",
    "\n",
    "text_splitter = RecursiveCharacterTextSplitter(chunk_size=500, chunk_overlap=50)\n",
    "\n",
    "pdf_dir = \"E:/work/MS_project_2/data/new_pdfs\"  # 여러 PDF 파일이 들어 있는 디렉토리\n",
    "\n",
    "\n",
    "### PDF-> 마크다운 형태로 변환\n",
    "### source 정보 추가\n",
    "from langchain.schema import Document\n",
    "\n",
    "all_docs = []\n",
    "\n",
    "for filename in os.listdir(pdf_dir):\n",
    "    if filename.endswith(\".pdf\"):\n",
    "        pdf_path = os.path.join(pdf_dir, filename)\n",
    "        md_path = pdf_path.replace(\".pdf\", \".md\")\n",
    "\n",
    "        # 1. PDF → Markdown 저장\n",
    "        md_text = pymupdf4llm.to_markdown(pdf_path)\n",
    "        with open(md_path, \"w\", encoding=\"utf-8\") as f:\n",
    "            f.write(md_text)\n",
    "\n",
    "        # 2. Markdown 로딩\n",
    "        loader = TextLoader(md_path, encoding=\"utf-8\")\n",
    "        documents = loader.load()\n",
    "\n",
    "        # 3. ✅ source 메타데이터 추가\n",
    "        for doc in documents:\n",
    "            doc.metadata[\"source\"] = filename\n",
    "\n",
    "        # 4. ✅ 분할 (source 정보가 포함된 문서 기준으로)\n",
    "        docs_split = text_splitter.split_documents(documents)\n",
    "\n",
    "        # 5. ✅ all_docs에 청크된 문서 저장\n",
    "        all_docs.extend(docs_split)\n"
   ]
  },
  {
   "cell_type": "markdown",
   "metadata": {},
   "source": [
    "### 임베딩 객체 생성"
   ]
  },
  {
   "cell_type": "code",
   "execution_count": 2,
   "metadata": {},
   "outputs": [
    {
     "data": {
      "text/plain": [
       "835"
      ]
     },
     "execution_count": 2,
     "metadata": {},
     "output_type": "execute_result"
    }
   ],
   "source": [
    "len(all_docs)"
   ]
  },
  {
   "cell_type": "code",
   "execution_count": null,
   "metadata": {},
   "outputs": [],
   "source": [
    "import os\n",
    "import uuid\n",
    "from langchain_openai import AzureOpenAIEmbeddings\n",
    "from langchain_community.vectorstores import AzureSearch\n",
    "\n",
    "# ✅ 임베딩 객체 생성\n",
    "embedding_api_key = \"\"\n",
    "embedding_endpoint = \"\"\n",
    "embedding_api_version = \"2024-02-15-preview\"\n",
    "embedding_deployment = \"text-embedding-3-small\"\n",
    "\n",
    "os.environ.pop(\"OPENAI_API_BASE\", None)\n",
    "os.environ.pop(\"BASE_URL\", None)\n",
    "\n",
    "embedding = AzureOpenAIEmbeddings(\n",
    "    api_key=embedding_api_key,\n",
    "    azure_endpoint=embedding_endpoint,\n",
    "    model=embedding_deployment,\n",
    "    openai_api_version=embedding_api_version\n",
    ")"
   ]
  },
  {
   "cell_type": "markdown",
   "metadata": {},
   "source": [
    "### 빈 인덱스 생성"
   ]
  },
  {
   "cell_type": "code",
   "execution_count": null,
   "metadata": {},
   "outputs": [
    {
     "name": "stdout",
     "output_type": "stream",
     "text": [
      "✅ Azure Search 인덱스 생성 완료\n"
     ]
    }
   ],
   "source": [
    "from azure.core.credentials import AzureKeyCredential\n",
    "from azure.search.documents.indexes import SearchIndexClient\n",
    "from azure.search.documents.indexes.models import (\n",
    "    SearchIndex, SimpleField, SearchField, SearchFieldDataType,\n",
    "    VectorSearch, HnswAlgorithmConfiguration, VectorSearchAlgorithmKind,\n",
    "    VectorSearchProfile\n",
    ")\n",
    "\n",
    "ai_search_endpoint = \"\"\n",
    "ai_search_api_key = \"\"\n",
    "ai_search_index_name = \"new_pdf_all_index\"\n",
    "\n",
    "index_client = SearchIndexClient(\n",
    "    endpoint=ai_search_endpoint,\n",
    "    credential=AzureKeyCredential(ai_search_api_key)\n",
    ")\n",
    "\n",
    "embedding_dim = 1536\n",
    "\n",
    "fields = [\n",
    "    SimpleField(name=\"id\", type=SearchFieldDataType.String, key=True),\n",
    "    SearchField(name=\"content\", type=SearchFieldDataType.String, searchable=True),\n",
    "    SearchField(name=\"source\", type=SearchFieldDataType.String, searchable=True, filterable=True),\n",
    "    SearchField(\n",
    "        name=\"embedding\",\n",
    "        type=SearchFieldDataType.Collection(SearchFieldDataType.Single),\n",
    "        searchable=True,\n",
    "        vector_search_dimensions=embedding_dim,\n",
    "        vector_search_profile_name=\"default\"\n",
    "    )\n",
    "]\n",
    "\n",
    "vector_search = VectorSearch(\n",
    "    profiles=[VectorSearchProfile(name=\"default\", algorithm_configuration_name=\"my-algorithm\")],\n",
    "    algorithms=[HnswAlgorithmConfiguration(name=\"my-algorithm\", kind=VectorSearchAlgorithmKind.HNSW)]\n",
    ")\n",
    "\n",
    "index = SearchIndex(\n",
    "    name=ai_search_index_name,\n",
    "    fields=fields,\n",
    "    vector_search=vector_search\n",
    ")\n",
    "\n",
    "# ✅ 인덱스 재생성\n",
    "if ai_search_index_name in [i.name for i in index_client.list_indexes()]:\n",
    "    index_client.delete_index(ai_search_index_name)\n",
    "index_client.create_index(index)\n",
    "print(\"✅ Azure Search 인덱스 생성 완료\")"
   ]
  },
  {
   "cell_type": "markdown",
   "metadata": {},
   "source": [
    "### 벡터스토어 객체 생성 및 임베딩"
   ]
  },
  {
   "cell_type": "code",
   "execution_count": 5,
   "metadata": {},
   "outputs": [],
   "source": [
    "vectorstore = AzureSearch(\n",
    "    azure_search_endpoint=ai_search_endpoint,\n",
    "    azure_search_key=ai_search_api_key,\n",
    "    index_name=ai_search_index_name,\n",
    "    embedding_function=lambda x: x  # 더미 함수로 에러 방지\n",
    ")\n"
   ]
  },
  {
   "cell_type": "markdown",
   "metadata": {},
   "source": [
    "### 배치 단위로 업로드"
   ]
  },
  {
   "cell_type": "code",
   "execution_count": null,
   "metadata": {},
   "outputs": [
    {
     "name": "stdout",
     "output_type": "stream",
     "text": [
      "✅ 업로드 완료: 0 ~ 99\n",
      "✅ 업로드 완료: 100 ~ 199\n",
      "✅ 업로드 완료: 200 ~ 299\n",
      "✅ 업로드 완료: 300 ~ 399\n",
      "✅ 업로드 완료: 400 ~ 499\n",
      "✅ 업로드 완료: 500 ~ 599\n",
      "✅ 업로드 완료: 600 ~ 699\n",
      "✅ 업로드 완료: 700 ~ 799\n",
      "✅ 업로드 완료: 800 ~ 899\n"
     ]
    }
   ],
   "source": [
    "from langchain.schema import Document\n",
    "import time\n",
    "\n",
    "# ✅ 전체 리스트 준비\n",
    "texts = [doc.page_content for doc in all_docs]\n",
    "metadatas = [{\"source\": doc.metadata.get(\"source\", \"\")} for doc in all_docs]\n",
    "ids = [str(uuid.uuid4()) for _ in all_docs]\n",
    "\n",
    "# ✅ 배치 처리 (예: 100개씩)\n",
    "batch_size = 100\n",
    "\n",
    "for start in range(0, len(texts), batch_size):\n",
    "    end = start + batch_size\n",
    "    batch_texts = texts[start:end]\n",
    "    batch_metadatas = metadatas[start:end]\n",
    "    batch_ids = ids[start:end]\n",
    "\n",
    "    # ✅ 임베딩 (429 오류 방지를 위해 sleep 추가해도 됨)\n",
    "    try:\n",
    "        batch_embeddings = embedding.embed_documents(batch_texts)\n",
    "    except Exception as e:\n",
    "        print(f\"❌ 임베딩 에러 발생: {e}\")\n",
    "        break\n",
    "\n",
    "    # ✅ 업로드용 Azure 포맷 구성\n",
    "    docs_to_upload = []\n",
    "    for i in range(len(batch_texts)):\n",
    "        docs_to_upload.append({\n",
    "            \"id\": batch_ids[i],\n",
    "            \"content\": batch_texts[i],\n",
    "            \"source\": batch_metadatas[i][\"source\"],\n",
    "            \"embedding\": batch_embeddings[i]\n",
    "        })\n",
    "\n",
    "    # ✅ Azure Search 업로드\n",
    "    from azure.search.documents import SearchClient, IndexDocumentsBatch\n",
    "    from azure.core.credentials import AzureKeyCredential\n",
    "\n",
    "    search_client = SearchClient(\n",
    "        endpoint=ai_search_endpoint,\n",
    "        index_name=ai_search_index_name,\n",
    "        credential=AzureKeyCredential(ai_search_api_key)\n",
    "    )\n",
    "\n",
    "    batch = IndexDocumentsBatch()\n",
    "    batch.add_upload_actions(docs_to_upload)\n",
    "\n",
    "    try:\n",
    "        search_client.index_documents(batch=batch)\n",
    "        print(f\"✅ 업로드 완료: {start} ~ {end-1}\")\n",
    "    except Exception as e:\n",
    "        print(f\"❌ 업로드 에러 발생: {e}\")\n",
    "        break\n",
    "\n",
    "    # ✅ 너무 빠르면 속도 제한 맞을 수 있으니 잠깐 쉬어가자\n",
    "    time.sleep(1)\n"
   ]
  },
  {
   "cell_type": "code",
   "execution_count": null,
   "metadata": {},
   "outputs": [],
   "source": []
  }
 ],
 "metadata": {
  "kernelspec": {
   "display_name": "deep",
   "language": "python",
   "name": "python3"
  },
  "language_info": {
   "codemirror_mode": {
    "name": "ipython",
    "version": 3
   },
   "file_extension": ".py",
   "mimetype": "text/x-python",
   "name": "python",
   "nbconvert_exporter": "python",
   "pygments_lexer": "ipython3",
   "version": "3.8.20"
  }
 },
 "nbformat": 4,
 "nbformat_minor": 2
}
