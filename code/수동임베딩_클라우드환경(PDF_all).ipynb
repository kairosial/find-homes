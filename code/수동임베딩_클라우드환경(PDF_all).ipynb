{
 "cells": [
  {
   "cell_type": "markdown",
   "metadata": {},
   "source": [
    "### 데이터 불러오기"
   ]
  },
  {
   "cell_type": "code",
   "execution_count": 21,
   "metadata": {},
   "outputs": [
    {
     "name": "stdout",
     "output_type": "stream",
     "text": [
      "Processing E:/work/MS_project_2/data/new_pdfs\\(대전충남)25년1차청년매입임대_표준입주자모집공고문.pdf...\n",
      "[                                        ] (0/1==[===                                     ] ( 1/1==[======                                  ] ( 2/13==[=========                               ] ( 3/1==[============                            ] ( 4/13==[===============                         ] ( 5/1==[==================                      ] ( 6/13==[=====================                   ] ( 7/1==[========================                ] ( 8/13==[===========================             ] ( 9/1==[==============================          ] (10/13==[=================================       ] (11/1==[====================================    ] (12/13===[========================================] (13/13]\n",
      "Processing E:/work/MS_project_2/data/new_pdfs\\(정정공고문)25년1차청년매입임대_표준입주자모집공고문.pdf...\n",
      "[                                        ] (0/1=[==                                      ] ( 1/14==[=====                                   ] ( 2/1==[========                                ] ( 3/14==[===========                             ] ( 4/1==[==============                          ] ( 5/14==[=================                       ] ( 6/1==[====================                    ] ( 7/14=[======================                  ] ( 8/14==[=========================               ] ( 9/1==[============================            ] (10/14==[===============================         ] (11/1==[==================================      ] (12/14==[=====================================   ] (13/1==[========================================] (14/14]\n",
      "Processing E:/work/MS_project_2/data/new_pdfs\\2025년 1차 대구경북 청년매입임대 입주자 모집 공고문.pdf...\n",
      "[                                        ] (0/2[=                                       ] ( 1/2=[===                                     ] ( 2/2[====                                    ] ( 3/25=[======                                  ] ( 4/25=[========                                ] ( 5/25[=========                               ] ( 6/2=[===========                             ] ( 7/2[============                            ] ( 8/25=[==============                          ] ( 9/25=[================                        ] (10/25[=================                       ] (11/2=[===================                     ] (12/2[====================                    ] (13/25=[======================                  ] (14/25=[========================                ] (15/25[=========================               ] (16/2=[===========================             ] (17/2[============================            ] (18/25=[==============================          ] (19/25=[================================        ] (20/25[=================================       ] (21/2=[===================================     ] (22/2[====================================    ] (23/25=[======================================  ] (24/25=[========================================] (25/25]\n",
      "Processing E:/work/MS_project_2/data/new_pdfs\\2025년1차청년매입임대입주자모집공고문(광주전남).pdf...\n",
      "[                                        ] (0/2[=                                       ] ( 1/2=[===                                     ] ( 2/2=[=====                                   ] ( 3/2[======                                  ] ( 4/24=[========                                ] ( 5/24=[==========                              ] ( 6/24[===========                             ] ( 7/2=[=============                           ] ( 8/2=[===============                         ] ( 9/2[================                        ] (10/24=[==================                      ] (11/24=[====================                    ] (12/24[=====================                   ] (13/2=[=======================                 ] (14/2=[=========================               ] (15/2[==========================              ] (16/24=[============================            ] (17/24=[==============================          ] (18/24[===============================         ] (19/2=[=================================       ] (20/2=[===================================     ] (21/2[====================================    ] (22/24=[======================================  ] (23/24=[========================================] (24/24]\n",
      "Processing E:/work/MS_project_2/data/new_pdfs\\25년 1차 청년매입임대 입주자 모집 공고문(강원지역본부).pdf...\n",
      "[                                        ] (0/2[=                                       ] ( 1/2=[===                                     ] ( 2/2[====                                    ] ( 3/25=[======                                  ] ( 4/25=[========                                ] ( 5/25[=========                               ] ( 6/2=[===========                             ] ( 7/2[============                            ] ( 8/25=[==============                          ] ( 9/25=[================                        ] (10/25[=================                       ] (11/2=[===================                     ] (12/2[====================                    ] (13/25=[======================                  ] (14/25=[========================                ] (15/25[=========================               ] (16/2=[===========================             ] (17/2[============================            ] (18/25=[==============================          ] (19/25=[================================        ] (20/25[=================================       ] (21/2=[===================================     ] (22/2[====================================    ] (23/25=[======================================  ] (24/25=[========================================] (25/25]\n",
      "Processing E:/work/MS_project_2/data/new_pdfs\\25년1차청년매입임대입주자모집공고문.pdf...\n",
      "[                                        ] (0/1==[===                                     ] ( 1/1==[======                                  ] ( 2/13==[=========                               ] ( 3/1==[============                            ] ( 4/13==[===============                         ] ( 5/1==[==================                      ] ( 6/13==[=====================                   ] ( 7/1==[========================                ] ( 8/13==[===========================             ] ( 9/1==[==============================          ] (10/13==[=================================       ] (11/1==[====================================    ] (12/13===[========================================] (13/13]\n",
      "Processing E:/work/MS_project_2/data/new_pdfs\\아츠스테이영등포_입주자모집공고문.pdf...\n",
      "[                                        ] (0/2[=                                       ] ( 1/2=[===                                     ] ( 2/2[====                                    ] ( 3/25=[======                                  ] ( 4/25=[========                                ] ( 5/25[=========                               ] ( 6/2=[===========                             ] ( 7/2[============                            ] ( 8/25=[==============                          ] ( 9/25=[================                        ] (10/25[=================                       ] (11/2=[===================                     ] (12/2[====================                    ] (13/25=[======================                  ] (14/25=[========================                ] (15/25[=========================               ] (16/2=[===========================             ] (17/2[============================            ] (18/25=[==============================          ] (19/25=[================================        ] (20/25[=================================       ] (21/2=[===================================     ] (22/2[====================================    ] (23/25=[======================================  ] (24/25=[========================================] (25/25]\n"
     ]
    }
   ],
   "source": [
    "import os\n",
    "import pymupdf4llm\n",
    "from langchain_community.document_loaders import TextLoader\n",
    "from langchain.text_splitter import RecursiveCharacterTextSplitter\n",
    "\n",
    "text_splitter = RecursiveCharacterTextSplitter(chunk_size=500, chunk_overlap=50)\n",
    "\n",
    "pdf_dir = \"E:/work/MS_project_2/data/new_pdfs\"  # 여러 PDF 파일이 들어 있는 디렉토리\n",
    "\n",
    "\n",
    "### PDF-> 마크다운 형태로 변환\n",
    "### source 정보 추가\n",
    "from langchain.schema import Document\n",
    "\n",
    "all_docs = []\n",
    "\n",
    "for filename in os.listdir(pdf_dir):\n",
    "    if filename.endswith(\".pdf\"):\n",
    "        pdf_path = os.path.join(pdf_dir, filename)\n",
    "        md_path = pdf_path.replace(\".pdf\", \".md\")\n",
    "\n",
    "        # 1. PDF → Markdown 저장\n",
    "        md_text = pymupdf4llm.to_markdown(pdf_path)\n",
    "        with open(md_path, \"w\", encoding=\"utf-8\") as f:\n",
    "            f.write(md_text)\n",
    "\n",
    "        # 2. Markdown 로딩\n",
    "        loader = TextLoader(md_path, encoding=\"utf-8\")\n",
    "        documents = loader.load()\n",
    "\n",
    "        # 3. ✅ source 메타데이터 추가\n",
    "        for doc in documents:\n",
    "            doc.metadata[\"source\"] = filename\n",
    "\n",
    "        # 4. ✅ 분할 (source 정보가 포함된 문서 기준으로)\n",
    "        docs_split = text_splitter.split_documents(documents)\n",
    "\n",
    "        # 5. ✅ all_docs에 청크된 문서 저장\n",
    "        all_docs.extend(docs_split)\n"
   ]
  },
  {
   "cell_type": "markdown",
   "metadata": {},
   "source": [
    "### 임베딩 객체 생성"
   ]
  },
  {
   "cell_type": "code",
   "execution_count": 33,
   "metadata": {},
   "outputs": [
    {
     "data": {
      "text/plain": [
       "835"
      ]
     },
     "execution_count": 33,
     "metadata": {},
     "output_type": "execute_result"
    }
   ],
   "source": [
    "len(all_docs)"
   ]
  },
  {
   "cell_type": "code",
   "execution_count": null,
   "metadata": {},
   "outputs": [],
   "source": [
    "import os\n",
    "import uuid\n",
    "from langchain_openai import AzureOpenAIEmbeddings\n",
    "from langchain_community.vectorstores import AzureSearch\n",
    "\n",
    "# ✅ 임베딩 객체 생성\n",
    "embedding_api_key = \"\"\n",
    "embedding_endpoint = \"\"\n",
    "embedding_api_version = \"2024-02-15-preview\"\n",
    "embedding_deployment = \"text-embedding-3-small\"\n",
    "\n",
    "os.environ.pop(\"OPENAI_API_BASE\", None)\n",
    "os.environ.pop(\"BASE_URL\", None)\n",
    "\n",
    "embedding = AzureOpenAIEmbeddings(\n",
    "    api_key=embedding_api_key,\n",
    "    azure_endpoint=embedding_endpoint,\n",
    "    model=embedding_deployment,\n",
    "    openai_api_version=embedding_api_version\n",
    ")"
   ]
  },
  {
   "cell_type": "markdown",
   "metadata": {},
   "source": [
    "### 빈 인덱스 생성"
   ]
  },
  {
   "cell_type": "code",
   "execution_count": null,
   "metadata": {},
   "outputs": [
    {
     "name": "stdout",
     "output_type": "stream",
     "text": [
      "✅ Azure Search 인덱스 생성 완료\n"
     ]
    }
   ],
   "source": [
    "from azure.core.credentials import AzureKeyCredential\n",
    "from azure.search.documents.indexes import SearchIndexClient\n",
    "from azure.search.documents.indexes.models import (\n",
    "    SearchIndex, SimpleField, SearchField, SearchFieldDataType,\n",
    "    VectorSearch, HnswAlgorithmConfiguration, VectorSearchAlgorithmKind,\n",
    "    VectorSearchProfile\n",
    ")\n",
    "\n",
    "ai_search_endpoint = \"\"\n",
    "ai_search_api_key = \"\"\n",
    "ai_search_index_name = \"new_pdf_all_index\"\n",
    "\n",
    "index_client = SearchIndexClient(\n",
    "    endpoint=ai_search_endpoint,\n",
    "    credential=AzureKeyCredential(ai_search_api_key)\n",
    ")\n",
    "\n",
    "embedding_dim = 1536\n",
    "\n",
    "fields = [\n",
    "    SimpleField(name=\"id\", type=SearchFieldDataType.String, key=True),\n",
    "    SearchField(name=\"content\", type=SearchFieldDataType.String, searchable=True),\n",
    "    SearchField(name=\"source\", type=SearchFieldDataType.String, searchable=True, filterable=True),\n",
    "    SearchField(\n",
    "        name=\"embedding\",\n",
    "        type=SearchFieldDataType.Collection(SearchFieldDataType.Single),\n",
    "        searchable=True,\n",
    "        vector_search_dimensions=embedding_dim,\n",
    "        vector_search_profile_name=\"default\"\n",
    "    )\n",
    "]\n",
    "\n",
    "vector_search = VectorSearch(\n",
    "    profiles=[VectorSearchProfile(name=\"default\", algorithm_configuration_name=\"my-algorithm\")],\n",
    "    algorithms=[HnswAlgorithmConfiguration(name=\"my-algorithm\", kind=VectorSearchAlgorithmKind.HNSW)]\n",
    ")\n",
    "\n",
    "index = SearchIndex(\n",
    "    name=ai_search_index_name,\n",
    "    fields=fields,\n",
    "    vector_search=vector_search\n",
    ")\n",
    "\n",
    "# ✅ 인덱스 재생성\n",
    "if ai_search_index_name in [i.name for i in index_client.list_indexes()]:\n",
    "    index_client.delete_index(ai_search_index_name)\n",
    "index_client.create_index(index)\n",
    "print(\"✅ Azure Search 인덱스 생성 완료\")"
   ]
  },
  {
   "cell_type": "markdown",
   "metadata": {},
   "source": [
    "### 벡터스토어 객체 생성 및 임베딩"
   ]
  },
  {
   "cell_type": "code",
   "execution_count": 24,
   "metadata": {},
   "outputs": [],
   "source": [
    "vectorstore = AzureSearch(\n",
    "    azure_search_endpoint=ai_search_endpoint,\n",
    "    azure_search_key=ai_search_api_key,\n",
    "    index_name=ai_search_index_name,\n",
    "    embedding_function=lambda x: x  # 더미 함수로 에러 방지\n",
    ")\n"
   ]
  },
  {
   "cell_type": "markdown",
   "metadata": {},
   "source": [
    "### 업로드"
   ]
  },
  {
   "cell_type": "code",
   "execution_count": 25,
   "metadata": {},
   "outputs": [
    {
     "ename": "RateLimitError",
     "evalue": "Error code: 429 - {'error': {'code': '429', 'message': 'Requests to the Embeddings_Create Operation under Azure OpenAI API version 2024-02-15-preview have exceeded call rate limit of your current OpenAI S0 pricing tier. Please retry after 60 seconds. Please go here: https://aka.ms/oai/quotaincrease if you would like to further increase the default rate limit. For Free Account customers, upgrade to Pay as you Go here: https://aka.ms/429TrialUpgrade.'}}",
     "output_type": "error",
     "traceback": [
      "\u001b[1;31m---------------------------------------------------------------------------\u001b[0m",
      "\u001b[1;31mRateLimitError\u001b[0m                            Traceback (most recent call last)",
      "Cell \u001b[1;32mIn[25], line 7\u001b[0m\n\u001b[0;32m      5\u001b[0m metadatas \u001b[38;5;241m=\u001b[39m [{\u001b[38;5;124m\"\u001b[39m\u001b[38;5;124msource\u001b[39m\u001b[38;5;124m\"\u001b[39m: doc\u001b[38;5;241m.\u001b[39mmetadata\u001b[38;5;241m.\u001b[39mget(\u001b[38;5;124m\"\u001b[39m\u001b[38;5;124msource\u001b[39m\u001b[38;5;124m\"\u001b[39m, \u001b[38;5;124m\"\u001b[39m\u001b[38;5;124m\"\u001b[39m)} \u001b[38;5;28;01mfor\u001b[39;00m doc \u001b[38;5;129;01min\u001b[39;00m all_docs]\n\u001b[0;32m      6\u001b[0m ids \u001b[38;5;241m=\u001b[39m [\u001b[38;5;28mstr\u001b[39m(uuid\u001b[38;5;241m.\u001b[39muuid4()) \u001b[38;5;28;01mfor\u001b[39;00m _ \u001b[38;5;129;01min\u001b[39;00m all_docs]\n\u001b[1;32m----> 7\u001b[0m embeddings \u001b[38;5;241m=\u001b[39m \u001b[43membedding\u001b[49m\u001b[38;5;241;43m.\u001b[39;49m\u001b[43membed_documents\u001b[49m\u001b[43m(\u001b[49m\u001b[43mtexts\u001b[49m\u001b[43m)\u001b[49m\n\u001b[0;32m      9\u001b[0m \u001b[38;5;66;03m# 2. 문서 리스트 구성 (Document 객체)\u001b[39;00m\n\u001b[0;32m     10\u001b[0m documents \u001b[38;5;241m=\u001b[39m [Document(page_content\u001b[38;5;241m=\u001b[39mtexts[i], metadata\u001b[38;5;241m=\u001b[39mmetadatas[i]) \u001b[38;5;28;01mfor\u001b[39;00m i \u001b[38;5;129;01min\u001b[39;00m \u001b[38;5;28mrange\u001b[39m(\u001b[38;5;28mlen\u001b[39m(texts))]\n",
      "File \u001b[1;32mc:\\Users\\User\\anaconda3\\envs\\deep\\lib\\site-packages\\langchain_openai\\embeddings\\base.py:592\u001b[0m, in \u001b[0;36mOpenAIEmbeddings.embed_documents\u001b[1;34m(self, texts, chunk_size)\u001b[0m\n\u001b[0;32m    589\u001b[0m \u001b[38;5;66;03m# NOTE: to keep things simple, we assume the list may contain texts longer\u001b[39;00m\n\u001b[0;32m    590\u001b[0m \u001b[38;5;66;03m#       than the maximum context and use length-safe embedding function.\u001b[39;00m\n\u001b[0;32m    591\u001b[0m engine \u001b[38;5;241m=\u001b[39m cast(\u001b[38;5;28mstr\u001b[39m, \u001b[38;5;28mself\u001b[39m\u001b[38;5;241m.\u001b[39mdeployment)\n\u001b[1;32m--> 592\u001b[0m \u001b[38;5;28;01mreturn\u001b[39;00m \u001b[38;5;28;43mself\u001b[39;49m\u001b[38;5;241;43m.\u001b[39;49m\u001b[43m_get_len_safe_embeddings\u001b[49m\u001b[43m(\u001b[49m\u001b[43mtexts\u001b[49m\u001b[43m,\u001b[49m\u001b[43m \u001b[49m\u001b[43mengine\u001b[49m\u001b[38;5;241;43m=\u001b[39;49m\u001b[43mengine\u001b[49m\u001b[43m)\u001b[49m\n",
      "File \u001b[1;32mc:\\Users\\User\\anaconda3\\envs\\deep\\lib\\site-packages\\langchain_openai\\embeddings\\base.py:490\u001b[0m, in \u001b[0;36mOpenAIEmbeddings._get_len_safe_embeddings\u001b[1;34m(self, texts, engine, chunk_size)\u001b[0m\n\u001b[0;32m    488\u001b[0m batched_embeddings: List[List[\u001b[38;5;28mfloat\u001b[39m]] \u001b[38;5;241m=\u001b[39m []\n\u001b[0;32m    489\u001b[0m \u001b[38;5;28;01mfor\u001b[39;00m i \u001b[38;5;129;01min\u001b[39;00m _iter:\n\u001b[1;32m--> 490\u001b[0m     response \u001b[38;5;241m=\u001b[39m \u001b[38;5;28;43mself\u001b[39;49m\u001b[38;5;241;43m.\u001b[39;49m\u001b[43mclient\u001b[49m\u001b[38;5;241;43m.\u001b[39;49m\u001b[43mcreate\u001b[49m\u001b[43m(\u001b[49m\n\u001b[0;32m    491\u001b[0m \u001b[43m        \u001b[49m\u001b[38;5;28;43minput\u001b[39;49m\u001b[38;5;241;43m=\u001b[39;49m\u001b[43mtokens\u001b[49m\u001b[43m[\u001b[49m\u001b[43mi\u001b[49m\u001b[43m \u001b[49m\u001b[43m:\u001b[49m\u001b[43m \u001b[49m\u001b[43mi\u001b[49m\u001b[43m \u001b[49m\u001b[38;5;241;43m+\u001b[39;49m\u001b[43m \u001b[49m\u001b[43m_chunk_size\u001b[49m\u001b[43m]\u001b[49m\u001b[43m,\u001b[49m\u001b[43m \u001b[49m\u001b[38;5;241;43m*\u001b[39;49m\u001b[38;5;241;43m*\u001b[39;49m\u001b[38;5;28;43mself\u001b[39;49m\u001b[38;5;241;43m.\u001b[39;49m\u001b[43m_invocation_params\u001b[49m\n\u001b[0;32m    492\u001b[0m \u001b[43m    \u001b[49m\u001b[43m)\u001b[49m\n\u001b[0;32m    493\u001b[0m     \u001b[38;5;28;01mif\u001b[39;00m \u001b[38;5;129;01mnot\u001b[39;00m \u001b[38;5;28misinstance\u001b[39m(response, \u001b[38;5;28mdict\u001b[39m):\n\u001b[0;32m    494\u001b[0m         response \u001b[38;5;241m=\u001b[39m response\u001b[38;5;241m.\u001b[39mmodel_dump()\n",
      "File \u001b[1;32mc:\\Users\\User\\anaconda3\\envs\\deep\\lib\\site-packages\\openai\\resources\\embeddings.py:128\u001b[0m, in \u001b[0;36mEmbeddings.create\u001b[1;34m(self, input, model, dimensions, encoding_format, user, extra_headers, extra_query, extra_body, timeout)\u001b[0m\n\u001b[0;32m    122\u001b[0m             embedding\u001b[38;5;241m.\u001b[39membedding \u001b[38;5;241m=\u001b[39m np\u001b[38;5;241m.\u001b[39mfrombuffer(  \u001b[38;5;66;03m# type: ignore[no-untyped-call]\u001b[39;00m\n\u001b[0;32m    123\u001b[0m                 base64\u001b[38;5;241m.\u001b[39mb64decode(data), dtype\u001b[38;5;241m=\u001b[39m\u001b[38;5;124m\"\u001b[39m\u001b[38;5;124mfloat32\u001b[39m\u001b[38;5;124m\"\u001b[39m\n\u001b[0;32m    124\u001b[0m             )\u001b[38;5;241m.\u001b[39mtolist()\n\u001b[0;32m    126\u001b[0m     \u001b[38;5;28;01mreturn\u001b[39;00m obj\n\u001b[1;32m--> 128\u001b[0m \u001b[38;5;28;01mreturn\u001b[39;00m \u001b[38;5;28;43mself\u001b[39;49m\u001b[38;5;241;43m.\u001b[39;49m\u001b[43m_post\u001b[49m\u001b[43m(\u001b[49m\n\u001b[0;32m    129\u001b[0m \u001b[43m    \u001b[49m\u001b[38;5;124;43m\"\u001b[39;49m\u001b[38;5;124;43m/embeddings\u001b[39;49m\u001b[38;5;124;43m\"\u001b[39;49m\u001b[43m,\u001b[49m\n\u001b[0;32m    130\u001b[0m \u001b[43m    \u001b[49m\u001b[43mbody\u001b[49m\u001b[38;5;241;43m=\u001b[39;49m\u001b[43mmaybe_transform\u001b[49m\u001b[43m(\u001b[49m\u001b[43mparams\u001b[49m\u001b[43m,\u001b[49m\u001b[43m \u001b[49m\u001b[43membedding_create_params\u001b[49m\u001b[38;5;241;43m.\u001b[39;49m\u001b[43mEmbeddingCreateParams\u001b[49m\u001b[43m)\u001b[49m\u001b[43m,\u001b[49m\n\u001b[0;32m    131\u001b[0m \u001b[43m    \u001b[49m\u001b[43moptions\u001b[49m\u001b[38;5;241;43m=\u001b[39;49m\u001b[43mmake_request_options\u001b[49m\u001b[43m(\u001b[49m\n\u001b[0;32m    132\u001b[0m \u001b[43m        \u001b[49m\u001b[43mextra_headers\u001b[49m\u001b[38;5;241;43m=\u001b[39;49m\u001b[43mextra_headers\u001b[49m\u001b[43m,\u001b[49m\n\u001b[0;32m    133\u001b[0m \u001b[43m        \u001b[49m\u001b[43mextra_query\u001b[49m\u001b[38;5;241;43m=\u001b[39;49m\u001b[43mextra_query\u001b[49m\u001b[43m,\u001b[49m\n\u001b[0;32m    134\u001b[0m \u001b[43m        \u001b[49m\u001b[43mextra_body\u001b[49m\u001b[38;5;241;43m=\u001b[39;49m\u001b[43mextra_body\u001b[49m\u001b[43m,\u001b[49m\n\u001b[0;32m    135\u001b[0m \u001b[43m        \u001b[49m\u001b[43mtimeout\u001b[49m\u001b[38;5;241;43m=\u001b[39;49m\u001b[43mtimeout\u001b[49m\u001b[43m,\u001b[49m\n\u001b[0;32m    136\u001b[0m \u001b[43m        \u001b[49m\u001b[43mpost_parser\u001b[49m\u001b[38;5;241;43m=\u001b[39;49m\u001b[43mparser\u001b[49m\u001b[43m,\u001b[49m\n\u001b[0;32m    137\u001b[0m \u001b[43m    \u001b[49m\u001b[43m)\u001b[49m\u001b[43m,\u001b[49m\n\u001b[0;32m    138\u001b[0m \u001b[43m    \u001b[49m\u001b[43mcast_to\u001b[49m\u001b[38;5;241;43m=\u001b[39;49m\u001b[43mCreateEmbeddingResponse\u001b[49m\u001b[43m,\u001b[49m\n\u001b[0;32m    139\u001b[0m \u001b[43m\u001b[49m\u001b[43m)\u001b[49m\n",
      "File \u001b[1;32mc:\\Users\\User\\anaconda3\\envs\\deep\\lib\\site-packages\\openai\\_base_client.py:1242\u001b[0m, in \u001b[0;36mSyncAPIClient.post\u001b[1;34m(self, path, cast_to, body, options, files, stream, stream_cls)\u001b[0m\n\u001b[0;32m   1228\u001b[0m \u001b[38;5;28;01mdef\u001b[39;00m \u001b[38;5;21mpost\u001b[39m(\n\u001b[0;32m   1229\u001b[0m     \u001b[38;5;28mself\u001b[39m,\n\u001b[0;32m   1230\u001b[0m     path: \u001b[38;5;28mstr\u001b[39m,\n\u001b[1;32m   (...)\u001b[0m\n\u001b[0;32m   1237\u001b[0m     stream_cls: \u001b[38;5;28mtype\u001b[39m[_StreamT] \u001b[38;5;241m|\u001b[39m \u001b[38;5;28;01mNone\u001b[39;00m \u001b[38;5;241m=\u001b[39m \u001b[38;5;28;01mNone\u001b[39;00m,\n\u001b[0;32m   1238\u001b[0m ) \u001b[38;5;241m-\u001b[39m\u001b[38;5;241m>\u001b[39m ResponseT \u001b[38;5;241m|\u001b[39m _StreamT:\n\u001b[0;32m   1239\u001b[0m     opts \u001b[38;5;241m=\u001b[39m FinalRequestOptions\u001b[38;5;241m.\u001b[39mconstruct(\n\u001b[0;32m   1240\u001b[0m         method\u001b[38;5;241m=\u001b[39m\u001b[38;5;124m\"\u001b[39m\u001b[38;5;124mpost\u001b[39m\u001b[38;5;124m\"\u001b[39m, url\u001b[38;5;241m=\u001b[39mpath, json_data\u001b[38;5;241m=\u001b[39mbody, files\u001b[38;5;241m=\u001b[39mto_httpx_files(files), \u001b[38;5;241m*\u001b[39m\u001b[38;5;241m*\u001b[39moptions\n\u001b[0;32m   1241\u001b[0m     )\n\u001b[1;32m-> 1242\u001b[0m     \u001b[38;5;28;01mreturn\u001b[39;00m cast(ResponseT, \u001b[38;5;28;43mself\u001b[39;49m\u001b[38;5;241;43m.\u001b[39;49m\u001b[43mrequest\u001b[49m\u001b[43m(\u001b[49m\u001b[43mcast_to\u001b[49m\u001b[43m,\u001b[49m\u001b[43m \u001b[49m\u001b[43mopts\u001b[49m\u001b[43m,\u001b[49m\u001b[43m \u001b[49m\u001b[43mstream\u001b[49m\u001b[38;5;241;43m=\u001b[39;49m\u001b[43mstream\u001b[49m\u001b[43m,\u001b[49m\u001b[43m \u001b[49m\u001b[43mstream_cls\u001b[49m\u001b[38;5;241;43m=\u001b[39;49m\u001b[43mstream_cls\u001b[49m\u001b[43m)\u001b[49m)\n",
      "File \u001b[1;32mc:\\Users\\User\\anaconda3\\envs\\deep\\lib\\site-packages\\openai\\_base_client.py:919\u001b[0m, in \u001b[0;36mSyncAPIClient.request\u001b[1;34m(self, cast_to, options, remaining_retries, stream, stream_cls)\u001b[0m\n\u001b[0;32m    916\u001b[0m \u001b[38;5;28;01melse\u001b[39;00m:\n\u001b[0;32m    917\u001b[0m     retries_taken \u001b[38;5;241m=\u001b[39m \u001b[38;5;241m0\u001b[39m\n\u001b[1;32m--> 919\u001b[0m \u001b[38;5;28;01mreturn\u001b[39;00m \u001b[38;5;28;43mself\u001b[39;49m\u001b[38;5;241;43m.\u001b[39;49m\u001b[43m_request\u001b[49m\u001b[43m(\u001b[49m\n\u001b[0;32m    920\u001b[0m \u001b[43m    \u001b[49m\u001b[43mcast_to\u001b[49m\u001b[38;5;241;43m=\u001b[39;49m\u001b[43mcast_to\u001b[49m\u001b[43m,\u001b[49m\n\u001b[0;32m    921\u001b[0m \u001b[43m    \u001b[49m\u001b[43moptions\u001b[49m\u001b[38;5;241;43m=\u001b[39;49m\u001b[43moptions\u001b[49m\u001b[43m,\u001b[49m\n\u001b[0;32m    922\u001b[0m \u001b[43m    \u001b[49m\u001b[43mstream\u001b[49m\u001b[38;5;241;43m=\u001b[39;49m\u001b[43mstream\u001b[49m\u001b[43m,\u001b[49m\n\u001b[0;32m    923\u001b[0m \u001b[43m    \u001b[49m\u001b[43mstream_cls\u001b[49m\u001b[38;5;241;43m=\u001b[39;49m\u001b[43mstream_cls\u001b[49m\u001b[43m,\u001b[49m\n\u001b[0;32m    924\u001b[0m \u001b[43m    \u001b[49m\u001b[43mretries_taken\u001b[49m\u001b[38;5;241;43m=\u001b[39;49m\u001b[43mretries_taken\u001b[49m\u001b[43m,\u001b[49m\n\u001b[0;32m    925\u001b[0m \u001b[43m\u001b[49m\u001b[43m)\u001b[49m\n",
      "File \u001b[1;32mc:\\Users\\User\\anaconda3\\envs\\deep\\lib\\site-packages\\openai\\_base_client.py:1008\u001b[0m, in \u001b[0;36mSyncAPIClient._request\u001b[1;34m(self, cast_to, options, retries_taken, stream, stream_cls)\u001b[0m\n\u001b[0;32m   1006\u001b[0m \u001b[38;5;28;01mif\u001b[39;00m remaining_retries \u001b[38;5;241m>\u001b[39m \u001b[38;5;241m0\u001b[39m \u001b[38;5;129;01mand\u001b[39;00m \u001b[38;5;28mself\u001b[39m\u001b[38;5;241m.\u001b[39m_should_retry(err\u001b[38;5;241m.\u001b[39mresponse):\n\u001b[0;32m   1007\u001b[0m     err\u001b[38;5;241m.\u001b[39mresponse\u001b[38;5;241m.\u001b[39mclose()\n\u001b[1;32m-> 1008\u001b[0m     \u001b[38;5;28;01mreturn\u001b[39;00m \u001b[38;5;28;43mself\u001b[39;49m\u001b[38;5;241;43m.\u001b[39;49m\u001b[43m_retry_request\u001b[49m\u001b[43m(\u001b[49m\n\u001b[0;32m   1009\u001b[0m \u001b[43m        \u001b[49m\u001b[43minput_options\u001b[49m\u001b[43m,\u001b[49m\n\u001b[0;32m   1010\u001b[0m \u001b[43m        \u001b[49m\u001b[43mcast_to\u001b[49m\u001b[43m,\u001b[49m\n\u001b[0;32m   1011\u001b[0m \u001b[43m        \u001b[49m\u001b[43mretries_taken\u001b[49m\u001b[38;5;241;43m=\u001b[39;49m\u001b[43mretries_taken\u001b[49m\u001b[43m,\u001b[49m\n\u001b[0;32m   1012\u001b[0m \u001b[43m        \u001b[49m\u001b[43mresponse_headers\u001b[49m\u001b[38;5;241;43m=\u001b[39;49m\u001b[43merr\u001b[49m\u001b[38;5;241;43m.\u001b[39;49m\u001b[43mresponse\u001b[49m\u001b[38;5;241;43m.\u001b[39;49m\u001b[43mheaders\u001b[49m\u001b[43m,\u001b[49m\n\u001b[0;32m   1013\u001b[0m \u001b[43m        \u001b[49m\u001b[43mstream\u001b[49m\u001b[38;5;241;43m=\u001b[39;49m\u001b[43mstream\u001b[49m\u001b[43m,\u001b[49m\n\u001b[0;32m   1014\u001b[0m \u001b[43m        \u001b[49m\u001b[43mstream_cls\u001b[49m\u001b[38;5;241;43m=\u001b[39;49m\u001b[43mstream_cls\u001b[49m\u001b[43m,\u001b[49m\n\u001b[0;32m   1015\u001b[0m \u001b[43m    \u001b[49m\u001b[43m)\u001b[49m\n\u001b[0;32m   1017\u001b[0m \u001b[38;5;66;03m# If the response is streamed then we need to explicitly read the response\u001b[39;00m\n\u001b[0;32m   1018\u001b[0m \u001b[38;5;66;03m# to completion before attempting to access the response text.\u001b[39;00m\n\u001b[0;32m   1019\u001b[0m \u001b[38;5;28;01mif\u001b[39;00m \u001b[38;5;129;01mnot\u001b[39;00m err\u001b[38;5;241m.\u001b[39mresponse\u001b[38;5;241m.\u001b[39mis_closed:\n",
      "File \u001b[1;32mc:\\Users\\User\\anaconda3\\envs\\deep\\lib\\site-packages\\openai\\_base_client.py:1057\u001b[0m, in \u001b[0;36mSyncAPIClient._retry_request\u001b[1;34m(self, options, cast_to, retries_taken, response_headers, stream, stream_cls)\u001b[0m\n\u001b[0;32m   1053\u001b[0m \u001b[38;5;66;03m# In a synchronous context we are blocking the entire thread. Up to the library user to run the client in a\u001b[39;00m\n\u001b[0;32m   1054\u001b[0m \u001b[38;5;66;03m# different thread if necessary.\u001b[39;00m\n\u001b[0;32m   1055\u001b[0m time\u001b[38;5;241m.\u001b[39msleep(timeout)\n\u001b[1;32m-> 1057\u001b[0m \u001b[38;5;28;01mreturn\u001b[39;00m \u001b[38;5;28;43mself\u001b[39;49m\u001b[38;5;241;43m.\u001b[39;49m\u001b[43m_request\u001b[49m\u001b[43m(\u001b[49m\n\u001b[0;32m   1058\u001b[0m \u001b[43m    \u001b[49m\u001b[43moptions\u001b[49m\u001b[38;5;241;43m=\u001b[39;49m\u001b[43moptions\u001b[49m\u001b[43m,\u001b[49m\n\u001b[0;32m   1059\u001b[0m \u001b[43m    \u001b[49m\u001b[43mcast_to\u001b[49m\u001b[38;5;241;43m=\u001b[39;49m\u001b[43mcast_to\u001b[49m\u001b[43m,\u001b[49m\n\u001b[0;32m   1060\u001b[0m \u001b[43m    \u001b[49m\u001b[43mretries_taken\u001b[49m\u001b[38;5;241;43m=\u001b[39;49m\u001b[43mretries_taken\u001b[49m\u001b[43m \u001b[49m\u001b[38;5;241;43m+\u001b[39;49m\u001b[43m \u001b[49m\u001b[38;5;241;43m1\u001b[39;49m\u001b[43m,\u001b[49m\n\u001b[0;32m   1061\u001b[0m \u001b[43m    \u001b[49m\u001b[43mstream\u001b[49m\u001b[38;5;241;43m=\u001b[39;49m\u001b[43mstream\u001b[49m\u001b[43m,\u001b[49m\n\u001b[0;32m   1062\u001b[0m \u001b[43m    \u001b[49m\u001b[43mstream_cls\u001b[49m\u001b[38;5;241;43m=\u001b[39;49m\u001b[43mstream_cls\u001b[49m\u001b[43m,\u001b[49m\n\u001b[0;32m   1063\u001b[0m \u001b[43m\u001b[49m\u001b[43m)\u001b[49m\n",
      "File \u001b[1;32mc:\\Users\\User\\anaconda3\\envs\\deep\\lib\\site-packages\\openai\\_base_client.py:1008\u001b[0m, in \u001b[0;36mSyncAPIClient._request\u001b[1;34m(self, cast_to, options, retries_taken, stream, stream_cls)\u001b[0m\n\u001b[0;32m   1006\u001b[0m \u001b[38;5;28;01mif\u001b[39;00m remaining_retries \u001b[38;5;241m>\u001b[39m \u001b[38;5;241m0\u001b[39m \u001b[38;5;129;01mand\u001b[39;00m \u001b[38;5;28mself\u001b[39m\u001b[38;5;241m.\u001b[39m_should_retry(err\u001b[38;5;241m.\u001b[39mresponse):\n\u001b[0;32m   1007\u001b[0m     err\u001b[38;5;241m.\u001b[39mresponse\u001b[38;5;241m.\u001b[39mclose()\n\u001b[1;32m-> 1008\u001b[0m     \u001b[38;5;28;01mreturn\u001b[39;00m \u001b[38;5;28;43mself\u001b[39;49m\u001b[38;5;241;43m.\u001b[39;49m\u001b[43m_retry_request\u001b[49m\u001b[43m(\u001b[49m\n\u001b[0;32m   1009\u001b[0m \u001b[43m        \u001b[49m\u001b[43minput_options\u001b[49m\u001b[43m,\u001b[49m\n\u001b[0;32m   1010\u001b[0m \u001b[43m        \u001b[49m\u001b[43mcast_to\u001b[49m\u001b[43m,\u001b[49m\n\u001b[0;32m   1011\u001b[0m \u001b[43m        \u001b[49m\u001b[43mretries_taken\u001b[49m\u001b[38;5;241;43m=\u001b[39;49m\u001b[43mretries_taken\u001b[49m\u001b[43m,\u001b[49m\n\u001b[0;32m   1012\u001b[0m \u001b[43m        \u001b[49m\u001b[43mresponse_headers\u001b[49m\u001b[38;5;241;43m=\u001b[39;49m\u001b[43merr\u001b[49m\u001b[38;5;241;43m.\u001b[39;49m\u001b[43mresponse\u001b[49m\u001b[38;5;241;43m.\u001b[39;49m\u001b[43mheaders\u001b[49m\u001b[43m,\u001b[49m\n\u001b[0;32m   1013\u001b[0m \u001b[43m        \u001b[49m\u001b[43mstream\u001b[49m\u001b[38;5;241;43m=\u001b[39;49m\u001b[43mstream\u001b[49m\u001b[43m,\u001b[49m\n\u001b[0;32m   1014\u001b[0m \u001b[43m        \u001b[49m\u001b[43mstream_cls\u001b[49m\u001b[38;5;241;43m=\u001b[39;49m\u001b[43mstream_cls\u001b[49m\u001b[43m,\u001b[49m\n\u001b[0;32m   1015\u001b[0m \u001b[43m    \u001b[49m\u001b[43m)\u001b[49m\n\u001b[0;32m   1017\u001b[0m \u001b[38;5;66;03m# If the response is streamed then we need to explicitly read the response\u001b[39;00m\n\u001b[0;32m   1018\u001b[0m \u001b[38;5;66;03m# to completion before attempting to access the response text.\u001b[39;00m\n\u001b[0;32m   1019\u001b[0m \u001b[38;5;28;01mif\u001b[39;00m \u001b[38;5;129;01mnot\u001b[39;00m err\u001b[38;5;241m.\u001b[39mresponse\u001b[38;5;241m.\u001b[39mis_closed:\n",
      "File \u001b[1;32mc:\\Users\\User\\anaconda3\\envs\\deep\\lib\\site-packages\\openai\\_base_client.py:1057\u001b[0m, in \u001b[0;36mSyncAPIClient._retry_request\u001b[1;34m(self, options, cast_to, retries_taken, response_headers, stream, stream_cls)\u001b[0m\n\u001b[0;32m   1053\u001b[0m \u001b[38;5;66;03m# In a synchronous context we are blocking the entire thread. Up to the library user to run the client in a\u001b[39;00m\n\u001b[0;32m   1054\u001b[0m \u001b[38;5;66;03m# different thread if necessary.\u001b[39;00m\n\u001b[0;32m   1055\u001b[0m time\u001b[38;5;241m.\u001b[39msleep(timeout)\n\u001b[1;32m-> 1057\u001b[0m \u001b[38;5;28;01mreturn\u001b[39;00m \u001b[38;5;28;43mself\u001b[39;49m\u001b[38;5;241;43m.\u001b[39;49m\u001b[43m_request\u001b[49m\u001b[43m(\u001b[49m\n\u001b[0;32m   1058\u001b[0m \u001b[43m    \u001b[49m\u001b[43moptions\u001b[49m\u001b[38;5;241;43m=\u001b[39;49m\u001b[43moptions\u001b[49m\u001b[43m,\u001b[49m\n\u001b[0;32m   1059\u001b[0m \u001b[43m    \u001b[49m\u001b[43mcast_to\u001b[49m\u001b[38;5;241;43m=\u001b[39;49m\u001b[43mcast_to\u001b[49m\u001b[43m,\u001b[49m\n\u001b[0;32m   1060\u001b[0m \u001b[43m    \u001b[49m\u001b[43mretries_taken\u001b[49m\u001b[38;5;241;43m=\u001b[39;49m\u001b[43mretries_taken\u001b[49m\u001b[43m \u001b[49m\u001b[38;5;241;43m+\u001b[39;49m\u001b[43m \u001b[49m\u001b[38;5;241;43m1\u001b[39;49m\u001b[43m,\u001b[49m\n\u001b[0;32m   1061\u001b[0m \u001b[43m    \u001b[49m\u001b[43mstream\u001b[49m\u001b[38;5;241;43m=\u001b[39;49m\u001b[43mstream\u001b[49m\u001b[43m,\u001b[49m\n\u001b[0;32m   1062\u001b[0m \u001b[43m    \u001b[49m\u001b[43mstream_cls\u001b[49m\u001b[38;5;241;43m=\u001b[39;49m\u001b[43mstream_cls\u001b[49m\u001b[43m,\u001b[49m\n\u001b[0;32m   1063\u001b[0m \u001b[43m\u001b[49m\u001b[43m)\u001b[49m\n",
      "File \u001b[1;32mc:\\Users\\User\\anaconda3\\envs\\deep\\lib\\site-packages\\openai\\_base_client.py:1023\u001b[0m, in \u001b[0;36mSyncAPIClient._request\u001b[1;34m(self, cast_to, options, retries_taken, stream, stream_cls)\u001b[0m\n\u001b[0;32m   1020\u001b[0m         err\u001b[38;5;241m.\u001b[39mresponse\u001b[38;5;241m.\u001b[39mread()\n\u001b[0;32m   1022\u001b[0m     log\u001b[38;5;241m.\u001b[39mdebug(\u001b[38;5;124m\"\u001b[39m\u001b[38;5;124mRe-raising status error\u001b[39m\u001b[38;5;124m\"\u001b[39m)\n\u001b[1;32m-> 1023\u001b[0m     \u001b[38;5;28;01mraise\u001b[39;00m \u001b[38;5;28mself\u001b[39m\u001b[38;5;241m.\u001b[39m_make_status_error_from_response(err\u001b[38;5;241m.\u001b[39mresponse) \u001b[38;5;28;01mfrom\u001b[39;00m \u001b[38;5;28;01mNone\u001b[39;00m\n\u001b[0;32m   1025\u001b[0m \u001b[38;5;28;01mreturn\u001b[39;00m \u001b[38;5;28mself\u001b[39m\u001b[38;5;241m.\u001b[39m_process_response(\n\u001b[0;32m   1026\u001b[0m     cast_to\u001b[38;5;241m=\u001b[39mcast_to,\n\u001b[0;32m   1027\u001b[0m     options\u001b[38;5;241m=\u001b[39moptions,\n\u001b[1;32m   (...)\u001b[0m\n\u001b[0;32m   1031\u001b[0m     retries_taken\u001b[38;5;241m=\u001b[39mretries_taken,\n\u001b[0;32m   1032\u001b[0m )\n",
      "\u001b[1;31mRateLimitError\u001b[0m: Error code: 429 - {'error': {'code': '429', 'message': 'Requests to the Embeddings_Create Operation under Azure OpenAI API version 2024-02-15-preview have exceeded call rate limit of your current OpenAI S0 pricing tier. Please retry after 60 seconds. Please go here: https://aka.ms/oai/quotaincrease if you would like to further increase the default rate limit. For Free Account customers, upgrade to Pay as you Go here: https://aka.ms/429TrialUpgrade.'}}"
     ]
    }
   ],
   "source": [
    "from langchain.schema import Document\n",
    "\n",
    "# 1. 수동 임베딩 \n",
    "texts = [doc.page_content for doc in all_docs]\n",
    "metadatas = [{\"source\": doc.metadata.get(\"source\", \"\")} for doc in all_docs]\n",
    "ids = [str(uuid.uuid4()) for _ in all_docs]\n",
    "embeddings = embedding.embed_documents(texts)\n",
    "\n",
    "# 2. 문서 리스트 구성 (Document 객체)\n",
    "documents = [Document(page_content=texts[i], metadata=metadatas[i]) for i in range(len(texts))]\n",
    "\n",
    "\n"
   ]
  },
  {
   "cell_type": "code",
   "execution_count": 15,
   "metadata": {},
   "outputs": [
    {
     "name": "stdout",
     "output_type": "stream",
     "text": [
      "###### 송파구, 용산구, 은평구, 종로구, 중구]\n",
      "\n",
      "\n",
      "-----\n",
      "\n",
      "###### ■ 공급대상 주택 : 총 190호\n",
      "\n",
      " • 주택군, 주택별 소재지, 면적, 임대조건 등 세부내역은 첨부 “주택내역” 참조\n",
      "\n",
      "  * 위 공급호수는 기존에 선정된 예비입주자 계약 및 신규 매입물량 추가 등으로 변경될 수 있습니다.\n",
      "\n",
      "  * 청약플러스(https://apply.lh.or.kr) 공고문 페이지에 주택사진이 게시되어 있으므로 참고하시기 바랍니다.\n",
      "\n",
      "  * 아동복지시설(가정위탁 포함) 및 청소년쉼터 퇴소자 수시 우선공급으로 인해 지역별 공급물량이 \n",
      "\n",
      " 감소될 수 있습니다.\n",
      "\n",
      "  * 본 모집공고의 예비입주자로 선정되었다 하더라도 기존 임차인의 퇴거 및 임대공급 시행 전 실시하는\n",
      "\n",
      " 주택 개보수 완료 상황 등에 따라 주택물량이 감소하거나 입주까지 상당기간이 소요될 수 있습니다.\n",
      "\n",
      " ■ 임대기간 및 임대조건\n",
      "\n",
      " 구분 내용 \n",
      "\n",
      "\n",
      "{'source': '서울지역본부 청년 매입임대주택.pdf'} \n",
      "\n",
      "\n",
      "4a854b5a-e3a5-4072-8746-fc86eaaa3bfa \n",
      "\n",
      "\n",
      "[-0.010760089382529259, 0.03576195240020752, 0.012796956114470959, 0.03143836185336113, 0.008831854909658432, -0.03041721321642399, -0.05253487080335617, -0.03369792550802231, -0.007397900801151991, -0.03526224195957184, 0.009396745823323727, -0.019456153735518456, 0.013220624066889286, -0.0060671474784612656, 0.014654578641057014, 0.002516209613531828, -0.05040566623210907, 0.016327526420354843, -0.02107478305697441, 0.023051902651786804, 0.033936917781829834, -0.03908611834049225, -0.00796822365373373, -0.08117050677537918, -0.025572186335921288, -0.017555076628923416, 0.02874426729977131, -0.0012811892665922642, 0.017033640295267105, -0.020270900800824165, -0.0029656782280653715, -0.014698032289743423, -0.00454900274053216, -0.025832904502749443, -0.0019635397475212812, 0.0673089474439621, 0.02080320194363594, 0.045799631625413895, -0.021226869896054268, -0.021009603515267372, -0.025593912228941917, -0.0020558778196573257, -0.08486402779817581, -0.0056108892895281315, 0.01356824953109026, 0.08199611306190491, -0.02078147418797016, 0.009011099115014076, -0.02335607446730137, 0.016284072771668434, -0.0009729434386827052, 0.02211765944957733, -0.0005411276360973716, -0.07013340294361115, 0.022639097645878792, 0.01435040682554245, -0.02863563410937786, -0.009222934022545815, 0.014013644307851791, -0.03206843510270119, 0.012297244742512703, -0.04004208743572235, 0.028548726812005043, 0.018369823694229126, -0.012775229290127754, -0.006979664321988821, 0.012949042022228241, 0.05318666994571686, -0.022573918104171753, 0.04230165109038353, -0.009983363561332226, 0.02985232137143612, 0.03865158557891846, -0.020879244431853294, 0.02197643741965294, -0.005198084283620119, 0.015784360468387604, -0.0416933074593544, -0.06374578922986984, 0.03691346198320389, -0.025876358151435852, 0.0335458405315876, -0.04330107569694519, 0.0175442136824131, 0.0089730778709054, -0.015230333432555199, -0.07669483125209808, -0.013427026569843292, 0.0009036899427883327, 0.048493728041648865, -0.013752925209701061, 0.03943374380469322, -0.030547572299838066, 0.037065546959638596, 0.013720335438847542, -0.05787961184978485, -0.01486098114401102, -0.03195980191230774, -0.008473366498947144, 0.04762466624379158, 0.052882496267557144, 0.002413008362054825, 0.03832568973302841, -0.08986113965511322, 0.014176594093441963, -0.007919338531792164, -0.0314166359603405, -0.0040574390441179276, -0.013220624066889286, -0.059791550040245056, 0.029895775020122528, 0.005445224232971668, -0.008951351046562195, 0.053881920874118805, 0.008190920576453209, -0.0034925478976219893, -0.02878771908581257, -0.017707163468003273, -0.0113412756472826, 0.0023722711484879255, 0.008256101049482822, -0.0019553923048079014, 0.044626396149396896, -0.026701968163251877, -0.0016525780083611608, 0.06935124844312668, 0.004331736825406551, -0.029613329097628593, -0.06617916375398636, 0.016555653885006905, 0.013144581578671932, -0.0564456582069397, 0.0027334755286574364, -0.0005160063155926764, -0.05253487080335617, 0.0032236813567578793, 0.00020453539036680013, -0.010629729367792606, -0.028961531817913055, 0.020162267610430717, 0.05957428365945816, 0.03215533867478371, 0.03519706055521965, 0.005936788395047188, -0.004041144158691168, -0.019684283062815666, -0.016327526420354843, -0.026701968163251877, -0.02763621136546135, 0.03584885969758034, 0.009809550829231739, -0.014524219557642937, -0.02983059547841549, -0.02283463627099991, 0.02702786587178707, -0.007066570222377777, 0.0016077669570222497, 0.012264654971659184, -0.025593912228941917, -0.006338729988783598, -0.01457853615283966, -0.04332280158996582, 0.05631529912352562, 0.019651692360639572, 0.006517974194139242, 0.003161217551678419, 0.00556743610650301, -0.0057955654338002205, -0.06535355746746063, 0.016664287075400352, 0.06335470825433731, -0.020173130556941032, 0.013220624066889286, -0.0011318190954625607, 0.05153544992208481, 0.04493056982755661, 0.008761243894696236, -0.0564456582069397, 0.04399632662534714, 0.009380451403558254, 0.017870113253593445, -0.0024483141023665667, -0.01971687190234661, -0.02111823670566082, -0.03682655468583107, -0.09524933248758316, -0.02274773083627224, 0.05396882817149162, 0.005556573159992695, -0.005173642188310623, -0.009554264135658741, -0.02193298377096653, 0.02028176374733448, 0.004434938542544842, 0.008011676371097565, -0.04610380530357361, -0.010646024718880653, -0.0057412488386034966, 0.020107951015233994, -0.03634857013821602, -0.01627320982515812, -0.026310889050364494, 0.016121122986078262, -0.044626396149396896, -0.041410863399505615, -0.04966696351766586, -0.04336625710129738, 0.041410863399505615, 0.034892890602350235, -0.018619678914546967, 0.038760218769311905, 0.05370810627937317, -0.01616457663476467, 0.03795633837580681, -0.026658514514565468, 0.004812437575310469, -0.00197440292686224, 0.007685778196901083, -0.0008140678401105106, 0.05309976264834404, 0.011591130867600441, -0.05701054632663727, -0.026897506788372993, 0.02001018077135086, 0.022085068747401237, 0.056098032742738724, -0.015371556393802166, 0.01214515883475542, 0.02109651081264019, -0.0810401439666748, -0.015491052530705929, 0.04430049657821655, -0.0015167868696153164, 0.0020721727050840855, -0.00411447137594223, 0.012025662697851658, 0.06005226820707321, 0.0030960377771407366, -0.03404555097222328, -0.005915061570703983, -0.01330753043293953, 0.03261159732937813, 0.02659333497285843, 0.008147467859089375, 0.040780793875455856, -0.01932579278945923, 0.022943269461393356, -0.05075329169631004, 0.026701968163251877, 0.01804392598569393, 0.013611703179776669, 0.011938756331801414, -0.010504801757633686, -0.0003924363700207323, -0.017663709819316864, 0.0016335672698915005, 0.03700036555528641, 0.04434395208954811, -0.01137386541813612, 0.03571850061416626, 0.003970532678067684, 0.017641983926296234, -0.018141694366931915, -0.05110091716051102, 0.01932579278945923, 0.039346836507320404, 0.06856908649206161, 0.029656782746315002, 0.0009729434386827052, -0.04262755066156387, -0.018326370045542717, 0.01301422156393528, 0.003614759771153331, -0.005915061570703983, -0.03786943107843399, 0.04566927254199982, -4.913941666018218e-05, -0.0023709130473434925, -0.0032019547652453184, -0.01860881596803665, 0.0002978917909786105, 0.01896730437874794, 0.012014798820018768, 0.0009593643480911851, 0.03504497557878494, -0.017555076628923416, -0.005317580886185169, 0.0037831407971680164, 0.013296667486429214, 0.05640220269560814, 0.06478866189718246, -3.316274160169996e-05, -0.028505273163318634, -0.018771765753626823, 0.007566281594336033, 0.002938520163297653, -0.010222355835139751, -0.02700613997876644, 0.008457071147859097, -0.003495263634249568, -0.020042771473526955, 0.07408764213323593, 0.013557386584579945, -0.013818105682730675, 0.011178325861692429, -0.04108496382832527, 0.05236105993390083, 0.03750007972121239, -0.02978714182972908, -0.027831749990582466, -0.023008449003100395, 0.03126455098390579, -0.005458803381770849, -0.01327494066208601, 0.007805274333804846, -0.0044512334279716015, 0.036044396460056305, 0.007707504555583, 0.015002204105257988, 0.0023722711484879255, 0.022899815812706947, -0.009858435951173306, -0.003956953529268503, -0.03563159331679344, -0.02186780422925949, -0.0056706378236413, 0.045582365244627, 0.011221778579056263, -0.008266963995993137, -0.018304644152522087, -0.02704959362745285, 0.022508738562464714, 0.024572763592004776, 0.03593576326966286, -0.012123432010412216, 0.012970768846571445, 0.028027288615703583, 0.010135450400412083, 0.01240587793290615, -0.030721385031938553, -0.004128050524741411, 0.022215429693460464, 0.01898903213441372, -0.03682655468583107, 0.01631666161119938, -0.0358923114836216, 0.0496235117316246, 0.031177643686532974, 0.019119391217827797, -0.01631666161119938, 0.01577349752187729, -0.007566281594336033, 0.02444240264594555, 0.08451639860868454, -0.018891261890530586, -0.026376068592071533, 0.054446812719106674, -0.008994804695248604, -0.07213224470615387, 0.015349829569458961, -0.010189766064286232, 0.010081133805215359, 0.009380451403558254, -0.028483547270298004, -0.02555045858025551, -0.038695041090250015, -0.0005251722177490592, 0.01738126389682293, 0.04671214893460274, -0.04056352749466896, 0.00113725068513304, 0.049536604434251785, -0.044170137494802475, -0.01570831798017025, -0.013329257257282734, 0.01544759888201952, 0.04858063533902168, 0.021715717390179634, 0.03304613009095192, -0.018185148015618324, 0.02281291037797928, -0.02036866918206215, -0.07000304013490677, 0.040824245661497116, 0.06752621382474899, 0.01835896074771881, -0.01139559131115675, 0.03739144653081894, 0.003264418803155422, -0.00493464944884181, -0.0194887425750494, 0.04023762792348862, -0.019206296652555466, 0.03419763967394829, 0.020488165318965912, -0.013644292950630188, 0.014698032289743423, 0.037608712911605835, -0.043235894292593, 0.021780896931886673, 0.03739144653081894, -0.01382896862924099, 0.017891839146614075, -0.041932299733161926, -0.012590553611516953, -0.02824455499649048, 0.006566858850419521, 0.007604303304105997, 0.04447431117296219, -0.029417790472507477, 0.04840682074427605, -0.03245951235294342, -0.011232642456889153, 0.03028685413300991, 0.007381605915725231, -0.02001018077135086, 0.016218893229961395, 0.1015934944152832, -0.05457717180252075, -0.043040357530117035, 0.006898189429193735, 0.01810910552740097, -0.017163999378681183, 0.0003533964045345783, -0.06704822927713394, 0.0010041753994300961, -0.008527683094143867, -0.00046033193939365447, -0.033350300043821335, -0.013546522706747055, -0.006756966467946768, 0.020151402801275253, -0.06105169281363487, 0.017305221408605576, -0.019065074622631073, -0.04501747712492943, -0.025289740413427353, 0.037608712911605835, 0.02920052409172058, 0.010135450400412083, 0.04002036154270172, 0.01519774366170168, -0.04827646166086197, 0.015969036146998405, 0.003362188348546624, -0.021150825545191765, 0.03511015325784683, 0.01708795502781868, 0.02093356102705002, 0.03902094066143036, -0.04610380530357361, 0.021878667175769806, -0.005265980027616024, 0.005936788395047188, -0.05900939181447029, 0.005056861788034439, 0.018250327557325363, -0.040867697447538376, 0.00852225162088871, -0.050101496279239655, 0.044756755232810974, 0.036652740091085434, 0.017913565039634705, 0.002399429213255644, 0.005290422588586807, -0.008044266141951084, -0.0010279389098286629, 0.019706008955836296, -0.003093322040513158, -0.009603148326277733, 0.025029020383954048, -0.007414195686578751, -0.03858640789985657, 0.016935870051383972, -0.004630477633327246, 0.02036866918206215, -0.023573340848088264, -0.015990763902664185, -0.006154053844511509, -0.006517974194139242, -0.034914616495370865, -0.033176489174366, -0.015784360468387604, 0.02917879819869995, 0.05201343446969986, 0.04818955808877945, 0.037022095173597336, 0.03758698329329491, -0.02767966315150261, -0.034414902329444885, -0.017696300521492958, 0.008956782519817352, 0.01247105747461319, -0.008310416713356972, 0.019836368039250374, 0.015360692515969276, 0.04453948885202408, 0.033263396471738815, -0.02224801853299141, 0.02136809192597866, 0.0033323143143206835, -0.021335503086447716, 0.0025012725964188576, -0.059878457337617874, 0.0019553923048079014, 0.01942356303334236, -0.022465284913778305, 0.025050748139619827, -0.035370875149965286, 0.01250364724546671, -0.04818955808877945, 0.04918897897005081, -0.03128627687692642, -0.04219302162528038, 0.005189937073737383, -0.004440370015799999, 0.01165631040930748, -0.0028950669802725315, -0.02920052409172058, 0.013861558400094509, -0.0038157308008521795, 0.012286381796002388, 0.022193701937794685, -0.018543636426329613, 0.031612176448106766, -0.02272600308060646, 0.00835387036204338, -0.0814746767282486, 0.046407975256443024, -0.004869469907134771, 0.022508738562464714, -0.04879790171980858, -0.003017278853803873, 0.019162844866514206, -0.009456493891775608, 0.0161863025277853, 0.022378377616405487, -0.009690054692327976, 0.03793460875749588, 0.006251823622733355, -0.02188953012228012, 0.003128627547994256, -0.0034436630085110664, -0.024724848568439484, -0.008087719790637493, 0.0030417214147746563, 0.06183384731411934, -0.0015398714458569884, -0.014176594093441963, -0.0025773155502974987, 0.007810705807060003, 0.00815833080559969, 0.03252469003200531, 0.01758766733109951, -0.010369010269641876, 0.04775502532720566, 0.006126896012574434, 0.01652306504547596, -0.0005530093912966549, -0.026832327246665955, 0.015382419340312481, 0.03152526915073395, 0.012547099962830544, -0.015045656822621822, 0.021248595789074898, -0.01616457663476467, 0.015078247524797916, -0.041454315185546875, -0.012047389522194862, 0.010461349040269852, -0.01885867305099964, 0.029461244121193886, 0.012058252468705177, 0.04212784022092819, 0.019314929842948914, -0.00254336791113019, -0.0015860403655096889, 0.030677931383252144, -0.035457778722047806, -0.01461112592369318, 0.002182163530960679, -0.0010109649738296866, 0.04443085938692093, -0.025246286764740944, 0.013166308403015137, 0.012297244742512703, 0.004195945803076029, 0.05692364275455475, 0.018826082348823547, -0.05357774719595909, 0.031633902341127396, -0.028353188186883926, 0.01573004387319088, 0.006045421119779348, -0.014263500459492207, -0.020977014675736427, -0.024768302217125893, -0.008060561493039131, -0.03465389460325241, -0.02324744127690792, 0.006045421119779348, -0.028896352276206017, 0.01597990095615387, -0.0040710181929171085, 0.003951522056013346, -0.05731472000479698, -0.01867399550974369, -0.042453739792108536, -0.014220046810805798, 0.006517974194139242, -0.00935872457921505, -0.003044437151402235, 0.001347726909443736, -0.00813660491257906, -0.009603148326277733, -0.009016530588269234, -0.0021971005480736494, 0.04067216068506241, -0.014220046810805798, -0.017468171194195747, -0.003473537042737007, 0.05253487080335617, -0.02222629263997078, 0.040976330637931824, -0.009831277653574944, -0.004320873878896236, 0.017261767759919167, -0.00743049057200551, -0.0008127099135890603, -0.00826153252273798, -0.005007976666092873, -0.031742535531520844, 0.029917500913143158, -0.026202255859971046, -0.010325557552278042, 0.016034217551350594, -0.025115927681326866, -0.014198320917785168, 0.036000944674015045, 0.04532164707779884, -0.00716977147385478, 0.025289740413427353, 0.01068404596298933, -0.042019207030534744, -0.0022636381909251213, 0.003674508072435856, -0.046190712600946426, -0.02826628088951111, -0.009717212989926338, -0.01756594143807888, 0.01894557848572731, -0.0275275781750679, -0.015903856605291367, -0.054968249052762985, 0.013231487944722176, -0.007962792180478573, -0.011254369281232357, -0.036066122353076935, -0.032720230519771576, 0.01994500122964382, -0.03187289461493492, 0.03989000245928764, 0.005263264290988445, 0.020401259884238243, -0.00704484386369586, 0.006724376697093248, 0.012775229290127754, -0.033350300043821335, -0.01003768015652895, -0.007251246366649866, 0.03415418416261673, 0.011906166560947895, 0.021780896931886673, -0.02874426729977131, -0.031003830954432487, -0.00031282880809158087, 0.028309734538197517, -0.011254369281232357, 0.010189766064286232, 0.019619101658463478, 0.017261767759919167, 0.030634479597210884, -0.030026134103536606, -0.014817528426647186, -0.00459517166018486, -0.007196929771453142, 0.01675119437277317, 0.040802519768476486, -0.003731540171429515, 0.04284481704235077, -0.011645447462797165, 0.047407399863004684, 0.007229519542306662, -0.006898189429193735, 0.035588137805461884, 0.04584308713674545, -0.044170137494802475, -0.008668906055390835, -0.0005879756063222885, -0.06105169281363487, -0.051622357219457626, 0.015990763902664185, 0.01873917505145073, -0.018185148015618324, -0.00046270826715044677, -0.0008276469307020307, 0.0051030307076871395, -0.027744844555854797, 0.03574022650718689, -0.025680817663669586, 0.021335503086447716, 0.03235087916254997, -0.030178220942616463, -0.05249141901731491, 0.03504497557878494, -0.008685200475156307, -0.0006141153862699866, -0.00032301314058713615, 0.033763106912374496, 0.018348097801208496, 0.02385578490793705, -0.010216924361884594, 0.01512170024216175, 0.01166717428714037, -0.024768302217125893, -0.017750617116689682, 0.026115350425243378, 0.028874626383185387, 0.014513355679810047, -0.0040954602882266045, 0.016468748450279236, -0.006224665325134993, -0.036631014198064804, 0.008304985240101814, -0.022421831265091896, 0.002935804193839431, -0.017804933711886406, 0.02972196228802204, -0.01408968772739172, -0.022530464455485344, -0.009668328799307346, -0.04506092891097069, 0.02924397774040699, -0.00988016277551651, 0.0004121260717511177, 0.019586512818932533, -0.0008615947444923222, -0.0035794542636722326, -0.05366465449333191, 0.006170348729938269, -0.04101978614926338, 0.0052849906496703625, -0.018304644152522087, 0.0013117423513904214, 0.03895575925707817, -0.065179742872715, 0.02147672511637211, -0.022030752152204514, 0.012916452251374722, -0.02335607446730137, 0.018054788932204247, -0.015784360468387604, 0.031677354127168655, 0.013524796813726425, 0.020455576479434967, -0.022487010806798935, -0.051187824457883835, -0.005078588146716356, -0.009825846180319786, 0.011840986087918282, -0.025745999068021774, -0.01810910552740097, 0.005208947695791721, -0.008571135811507702, 0.026310889050364494, -0.04327934980392456, 0.009228365495800972, -0.048493728041648865, 0.0033513251692056656, -0.001398648601025343, 0.025094199925661087, -0.017120545729994774, 0.009125163778662682, 0.02917879819869995, -0.0059639462269842625, 0.0372176319360733, 0.0027456965763121843, -0.010760089382529259, 0.0016118406783789396, -0.018119968473911285, 0.005219811107963324, -0.016631698235869408, 0.013742062263190746, 0.021748308092355728, -0.007702073082327843, 0.035479508340358734, 0.011993072926998138, -0.03417591005563736, -0.00032046707929112017, 0.02867908589541912, -0.02974369004368782, -0.030634479597210884, 0.002199816284701228, -0.009804119355976582, 0.023464707657694817, 0.030113041400909424, 0.01867399550974369, -0.008989373221993446, 0.02439895085990429, -0.009244659915566444, -0.028570454567670822, -0.01080897357314825, 0.015784360468387604, -0.017870113253593445, 0.0027647074311971664, 0.007582576479762793, 0.00978782493621111, -0.04649488255381584, -0.03193807229399681, -0.02487693540751934, 0.0037478352896869183, -0.0033268826082348824, 0.006517974194139242, 0.020314352586865425, -0.019162844866514206, 0.02876599319279194, -0.04649488255381584, 0.003039005445316434, -0.0021400682162493467, 0.0329592227935791, 0.008245237171649933, 0.004299147054553032, -0.057705797255039215, -0.013177171349525452, 0.042518917471170425, -0.02107478305697441, 0.00439148535951972, 0.024551035836338997, -0.009396745823323727, 0.006235528737306595, 0.011308684945106506, -0.002455103676766157, -0.006355024874210358, -0.012351561337709427, -0.015871267765760422, 0.01765284687280655, 0.011085988022387028, 0.009956205263733864, -0.023942692205309868, 0.012644870206713676, -0.009505379013717175, -0.005249685142189264, 0.018369823694229126, -0.017489897087216377, 0.0057955654338002205, -0.03408900648355484, -0.0035604434087872505, -0.01625148206949234, 0.021270323544740677, -0.01194961927831173, -0.01675119437277317, -0.0486675426363945, -0.014013644307851791, 0.011460771784186363, 0.020086223259568214, 0.03695691376924515, 0.0040710181929171085, 0.002468682825565338, 0.008897034451365471, -0.035957492887973785, -0.009260955266654491, -0.042518917471170425, 0.035957492887973785, -0.06044334918260574, -0.008152899332344532, 0.01111314631998539, -0.01708795502781868, 0.027223406359553337, -0.027332039549946785, -0.039803095161914825, 0.0029982682317495346, -0.004432222340255976, 0.01029839925467968, 0.01065145619213581, 0.03263332322239876, 0.03176426142454147, 0.011178325861692429, 0.012123432010412216, -0.018641406670212746, 0.003356756642460823, 0.016718603670597076, -0.03085174411535263, -0.014817528426647186, -0.02199816331267357, -0.03180771321058273, -0.029504695907235146, -0.01921716146171093, -0.006224665325134993, 0.00877210684120655, 0.002293512225151062, -0.022878089919686317, -0.036000944674015045, -0.009657464921474457, -0.0020721727050840855, -0.006555995903909206, -0.04914552718400955, -0.027158226817846298, 0.029591603204607964, 0.0317859873175621, 0.02546355314552784, 0.029504695907235146, -0.007387037388980389, -0.003918931819498539, 0.01240587793290615, 0.012525374069809914, 0.02383405901491642, -0.02021658420562744, 0.02093356102705002, 0.05305631086230278, 0.006425636354833841, -0.0016960311913862824, -8.380859071621671e-05, 0.02920052409172058, -0.007930202409625053, -0.00028210607706569135, -0.004559866152703762, 0.0036093282978981733, -0.018185148015618324, 0.01860881596803665, -0.00787588581442833, 0.00440778024494648, 0.02878771908581257, 0.023508161306381226, 0.02329089492559433, 0.011308684945106506, -0.036544110625982285, -0.039173025637865067, 0.01710968278348446, 0.003628338919952512, -0.0030064156744629145, 0.028418367728590965, 0.0026262004394084215, 0.041389137506484985, 0.008826423436403275, 0.0058444500900805, -0.05040566623210907, 0.0046196142211556435, -0.013459617272019386, 0.003049868857488036, -0.020422985777258873, -0.0059802415780723095, -0.02132463827729225, -0.0130468113347888, -0.046755600720644, 0.003009131411090493, -0.005206231959164143, 0.014078824780881405, -0.007962792180478573, 0.021531041711568832, 0.006007399410009384, -0.008495093323290348, 0.014665442518889904, -0.01903248392045498, -0.03263332322239876, -0.03035203367471695, -0.008565704338252544, -0.0372176319360733, -0.008820991963148117, 0.03150354325771332, 0.0006779372342862189, 0.006431067828088999, 0.05683673545718193, -0.007392469327896833, 0.007473943755030632, 0.010656887665390968, 0.03504497557878494, 0.008598294109106064, 0.016805510967969894, -0.029504695907235146, 0.02704959362745285, -0.0007000032928772271, 0.03789115697145462, 0.03152526915073395, -0.013742062263190746, 0.002471398562192917, 0.03411073237657547, 0.018119968473911285, -0.006300708279013634, 0.04421359300613403, -0.03936856612563133, 0.037043821066617966, 0.026658514514565468, 0.020966149866580963, -0.03669619560241699, -0.03026512637734413, 0.007164340000599623, 0.00890789832919836, 0.018391551449894905, -0.0006860846769995987, 0.009141459129750729, -0.029396064579486847, -0.0004260446585249156, 0.0253983736038208, -0.028874626383185387, -0.020683705806732178, -0.011124009266495705, 0.04532164707779884, 0.010091996751725674, 0.004323589615523815, -0.032698504626750946, -0.006099737714976072, 0.006708081811666489, -0.01431781705468893, 0.03954237699508667, 0.015002204105257988, -0.00977696105837822, -0.008810128085315228, -0.004687509965151548, -0.018978169187903404, -0.030178220942616463, -0.009347861632704735, 0.012970768846571445, 0.009907321073114872, 0.025898084044456482, -0.011200052686035633, -0.006322435103356838, 0.04101978614926338, -0.03263332322239876, 0.010222355835139751, -0.009440199472010136, -0.006811283063143492, 0.042040932923555374, 0.0069307792000472546, 0.014687168411910534, 0.01808737777173519, 0.0024483141023665667, -0.017348675057291985, -0.023138808086514473, -0.011096850968897343, -0.015654001384973526, -0.02444240264594555, -0.015165152959525585, 0.01951047033071518, -0.00978782493621111, -0.0356750451028347, 0.0025379362050443888, 0.01942356303334236, -0.040367987006902695, -0.0009145532385446131, 0.01756594143807888, -0.0038075833581387997, -0.016848962754011154, 0.006691786926239729, -0.004940081387758255, -0.008359301835298538, 0.003446378977969289, -0.0020002033561468124, -0.024659669026732445, -0.023529887199401855, -0.02874426729977131, 0.004171503707766533, 0.017718026414513588, 0.011612857691943645, -0.02817937545478344, -0.013057675212621689, 0.01867399550974369, -0.020564209669828415, 0.00017567977192811668, -0.008918761275708675, -0.04432222619652748, 0.004141629673540592, -0.04480021074414253, -0.010602571070194244, -0.009380451403558254, 0.053925372660160065, -0.024268589913845062, -0.03030858002603054, 0.011210915632545948, 0.0026071895845234394, 0.04453948885202408, -0.012308107689023018, 0.005920493043959141, -0.008549409918487072, -0.001244525657966733, 0.022237155586481094, 0.028570454567670822, -0.017500760033726692, 0.04662524163722992, 0.0029303724877536297, 0.018391551449894905, -0.008788402192294598, -0.020151402801275253, -0.004807006102055311, 0.012373288162052631, 0.013231487944722176, -0.012416740879416466, -0.011493361555039883, 0.009413041174411774, -0.01955392211675644, 0.026701968163251877, 0.011417318135499954, 0.011895302683115005, 0.013698609545826912, -0.011493361555039883, -0.02064025215804577, -0.0405200719833374, 0.013861558400094509, 0.028070742264389992, 0.008277826942503452, 0.014144004322588444, 0.021780896931886673, 0.020412122830748558, 0.026810601353645325, 0.013448753394186497, 0.0008147467742674053, 0.030178220942616463, 0.03230742737650871, 0.01570831798017025, -0.01194961927831173, -0.006441931240260601, -0.055533140897750854, -0.009923615492880344, 0.02824455499649048, 0.01133041176944971, -0.011971346102654934, -0.003473537042737007, -0.0033160194288939238, 0.029939228668808937, 0.04666869714856148, 0.03176426142454147, 0.010119155049324036, -0.00035237797419540584, -0.004820585250854492, -0.002244627336040139, -0.019206296652555466, -0.017207451164722443, 0.022943269461393356, -0.00021794476197101176, -0.021748308092355728, -0.03739144653081894, 0.0073653110302984715, 0.023399528115987778, -0.005021555814892054, -0.03476252779364586, 0.0003795362135861069, -0.009070847183465958, 0.008027971722185612, 0.055967673659324646, 0.03341548144817352, -0.032763682305812836, 0.0008602368179708719, 0.0033105877228081226, 0.027983836829662323, 0.004119902849197388, -0.00047934267786331475, 0.00929354503750801, -0.042475465685129166, 0.04043316841125488, -0.0089730778709054, -0.025615638121962547, 0.013405300676822662, 0.013090264983475208, -0.04288826882839203, -0.014730622060596943, -0.02331262081861496, 0.01408968772739172, 0.017772343009710312, 0.018771765753626823, 0.013731199316680431, 8.138980774674565e-05, 0.020173130556941032, -0.0006670739385299385, -0.008859013207256794, -0.009255523793399334, -0.009369587525725365, 0.03634857013821602, -0.0036690763663500547, 0.0038157308008521795, 0.017598530277609825, 0.016925007104873657, -0.039868276566267014, 0.01740299165248871, 0.010770952329039574, -0.006708081811666489, 0.007778116036206484, 0.01896730437874794, -0.022030752152204514, 0.004557150416076183, -0.0010320126311853528, 0.029895775020122528, 0.0068547362461686134, 0.0036826555151492357, 0.026810601353645325, 0.023464707657694817, -0.02605017088353634, 0.020694568753242493, -0.026897506788372993, 0.042432013899087906, -0.01763112097978592, -0.008581999689340591, -0.045191287994384766, 0.03463216871023178, -0.02702786587178707, 0.01353565976023674, 0.018684860318899155, -0.01250364724546671, 0.010309262201189995, -0.013698609545826912, -0.03089519776403904, -0.007816137745976448, 0.013915874995291233, -0.013905012048780918, -0.03361102193593979, -0.03754353150725365, 0.0032209656201303005, 0.009054552763700485, -0.015523642301559448, -0.04054180160164833, 0.00324540794827044, -0.00608887430280447, 0.01928234100341797, 0.01133041176944971, 0.022030752152204514, -0.033915191888809204, -0.010510233230888844, 0.011688900180161, 0.02822282910346985, 0.03156872093677521, -0.0009668328566476703, 0.015719180926680565, 0.008766675367951393, -0.00028957458562217653, -0.010412463918328285, 0.04028107970952988, 0.008630883879959583, -0.006919915787875652, -0.023573340848088264, -0.024159958586096764, -0.03293749690055847, -0.010260378010571003, -0.004671215079724789, -0.009945342317223549, -0.011091419495642185, -0.0071263182908296585, -0.005475098267197609, -0.0035713068209588528, -0.02487693540751934, 0.022964995354413986, 0.0038428890984505415, 0.0018562647746875882, 0.040802519768476486, 0.009146890603005886, 0.016360115259885788, 0.015273786149919033, -0.00548867741599679, 0.03263332322239876, -0.00812574103474617, -0.014328680001199245, 0.00318294414319098, 0.04571272432804108, -0.03676137328147888, 0.00948365218937397, 0.012818682938814163, 0.006691786926239729, -0.01835896074771881, 0.008978509344160557, 0.0325898714363575, 0.007685778196901083, 0.01700104959309101, 0.0007543197134509683, -0.029591603204607964, 0.00018484567408449948, -0.04645143076777458, -0.007707504555583, 0.015621411614120007, -0.013133717700839043, -0.010656887665390968, 0.006311571691185236, 0.012340697459876537, 0.004472959786653519, -0.004570729564875364, -0.03680482879281044, 0.011721489951014519, 0.004204093478620052, -0.03778252378106117, 0.00128729990683496, 0.004603319335728884, -0.028070742264389992, 0.004263841547071934, 0.012775229290127754, 0.032655052840709686, -0.01139559131115675, 0.024616215378046036, -0.023030174896121025, 0.009597716853022575, 0.035001520067453384, 0.00716977147385478, -0.009934479370713234, -0.005762975662946701, -0.0064473627135157585, -0.0014896286884322762, -0.0014651862438768148, 0.02537664584815502, -0.007082865573465824, 0.029504695907235146, 0.0009410325437784195, 0.005151915363967419, 0.006463657598942518, -0.014448176138103008, -0.007854158990085125, -0.004627761896699667, 0.029982682317495346, 0.013742062263190746, 0.039737917482852936, 0.015056520700454712, 0.029070165008306503, 0.037065546959638596, -0.01969514600932598, -0.001209220034070313, -0.0074685122817754745, 0.016827236860990524, -0.005839018616825342, -0.028461821377277374, 0.011232642456889153, 0.024529309943318367, -0.020314352586865425, 0.032242245972156525, -0.0474943071603775, 0.0083864601328969, -0.03419763967394829, 0.01819601096212864, 0.0033866306766867638, -0.003644634038209915, -0.018597953021526337, -0.016675150021910667, 0.0006725055864080787, 0.0006076652789488435, 0.060399893671274185, -0.007316425908356905, 0.004005838185548782, 0.03886885195970535, 0.0214332714676857, -0.016914142295718193, 0.01765284687280655, -0.0193040668964386, 0.00923379696905613, 0.0011338558979332447, -0.023529887199401855, 0.041975755244493484, -0.011775806546211243, -0.03319821506738663, 0.017620256170630455, -0.027397219091653824, 0.015165152959525585, 0.04401805251836777, -0.009722644463181496, 0.029656782746315002, 0.008364733308553696, -0.019597375765442848, -0.03836914151906967, -0.004603319335728884, 0.010352715849876404, -0.015925584360957146, -0.022334925830364227, 0.010939333587884903, 0.010352715849876404, 0.0507967472076416, 0.02116169035434723, 0.004345315974205732, 0.00813660491257906, -0.023051902651786804, 0.018293781206011772, -0.007919338531792164, 0.01013001799583435, -0.004570729564875364, 0.05688018724322319, 0.01833723485469818, 0.013709472492337227, -0.031069010496139526, -0.003880910575389862, -0.020966149866580963, -0.0028461820911616087, 0.02820110134780407, 0.026788873597979546, -0.021465862169861794, 0.027201678603887558, -0.004853175021708012, -0.0063495934009552, -0.008082288317382336, -0.02030348964035511, -0.01996672712266445, -0.007886748760938644, -0.03400209918618202, 0.01625148206949234, 0.019640829414129257, -0.012036525644361973, -0.01656651869416237, -0.0056108892895281315, -0.01729435846209526, 0.026832327246665955, -0.050579480826854706, 0.0002882166882045567, -0.028288008645176888, 0.019477879628539085, -0.017641983926296234, 0.026180529966950417, -0.0018671280704438686, -0.007582576479762793, -0.04758121073246002, -0.029526423662900925, 0.02333434857428074, -0.021085646003484726, 0.008614589460194111, -0.025268012657761574, -0.012536237016320229, 0.00283531891182065, -0.02713649906218052, 0.012449330650269985, 0.013448753394186497, 0.0075065335258841515, -0.015827814117074013, -0.020857516676187515, -0.026137076318264008, 0.014459039084613323, -0.011124009266495705, -0.00706113874912262, 0.016599107533693314, 0.019369246438145638, 0.018348097801208496, 0.010982786305248737, 0.004611467011272907, -0.0016159143997356296, 0.004027565009891987, 0.0066320388577878475, 0.03745662420988083, 0.026962686330080032, -0.008315849117934704, 0.0007733305101282895, 0.02224801853299141, 0.014144004322588444, -0.03532741963863373, 0.022106796503067017, 0.025680817663669586, -0.04156294837594032, 0.007001390680670738, 0.019564786925911903, 0.02874426729977131, -0.0017354106530547142, -0.012003935873508453, -0.009766098111867905, 0.005268695764243603, -0.003411073237657547, 0.006653765216469765, 0.022030752152204514, -0.02001018077135086, 0.0389774851500988, 0.017163999378681183, -0.021259458735585213, 0.027158226817846298, -0.014285227283835411, 0.006653765216469765, 0.0076097347773611546, 0.03180771321058273, 0.008625452406704426, -0.0030009839683771133, 0.02431204356253147, 0.07000304013490677, -0.0036935186944901943, 0.03156872093677521, -0.0023491864558309317, -0.005665205884724855, 0.0341324582695961, 0.005113894119858742, -0.027201678603887558, -0.016783783212304115, -0.00041823668288998306, -0.0050758724100887775, -0.01137386541813612, 0.0028624769765883684, 0.0062789819203317165, -0.03858640789985657, 0.013361847028136253, -0.015816951170563698, -0.006963368970900774, -0.017196588218212128, 0.0003304816491436213, -0.011743216775357723, -0.0024700406938791275, -0.013416163623332977, 0.0013355057453736663, -0.010363578796386719, 0.0036799395456910133, 0.026419522240757942, -0.011612857691943645, -0.011612857691943645, 0.01273177657276392, 0.0060671474784612656, -0.006452794652432203, 0.0029982682317495346, -0.010950196534395218, -0.010189766064286232, 0.03939029201865196, 0.021770033985376358, 0.013383573852479458, -0.017457308247685432, 0.026289163157343864, -0.0026452112942934036, 0.011786670424044132, -0.002288080519065261, -0.005255116615444422, 0.012644870206713676, 0.014730622060596943, -0.017913565039634705, 0.010053975507616997, -0.0026655797846615314, 0.007984518073499203, 0.005176357924938202, 0.005225242581218481, -0.003889058018103242, 0.010124586522579193, -0.02546355314552784, 0.009570558555424213, 0.038738492876291275, 0.027766570448875427, -0.017804933711886406, 0.01412227749824524, -0.023681972175836563, 0.01515429001301527, -0.0009614012087695301, -0.01729435846209526, 0.012872999534010887, 0.005920493043959141, -0.0016294935485348105, -0.01885867305099964, -0.0035251376684755087, -0.034414902329444885] \n",
      "\n",
      "\n"
     ]
    }
   ],
   "source": [
    "print(texts[0],'\\n\\n')\n",
    "print(metadatas[0],'\\n\\n')\n",
    "print(ids[0],'\\n\\n')\n",
    "print(embeddings[0],'\\n\\n')"
   ]
  },
  {
   "cell_type": "markdown",
   "metadata": {},
   "source": [
    "### 데이터 json형태로 변환"
   ]
  },
  {
   "cell_type": "code",
   "execution_count": 17,
   "metadata": {},
   "outputs": [],
   "source": [
    "from azure.search.documents import SearchClient, IndexDocumentsBatch  # ✅ 여기!\n",
    "from azure.core.credentials import AzureKeyCredential\n",
    "\n",
    "\n",
    "# ✅ SearchClient 생성\n",
    "search_client = SearchClient(\n",
    "    endpoint=ai_search_endpoint,\n",
    "    index_name=ai_search_index_name,\n",
    "    credential=AzureKeyCredential(ai_search_api_key)\n",
    ")\n",
    "\n",
    "# ✅ 문서 생성 (Azure Search에 맞게 구조 변환)\n",
    "docs_to_upload = []\n",
    "for i in range(len(texts)):\n",
    "    docs_to_upload.append({\n",
    "        \"id\": ids[i],\n",
    "        \"content\": texts[i],\n",
    "        \"source\": metadatas[i][\"source\"],\n",
    "        \"embedding\": embeddings[i],\n",
    "    })\n"
   ]
  },
  {
   "cell_type": "code",
   "execution_count": 18,
   "metadata": {},
   "outputs": [
    {
     "name": "stdout",
     "output_type": "stream",
     "text": [
      "✅ 벡터 업로드 완료\n"
     ]
    }
   ],
   "source": [
    "# ✅ 일괄 업로드\n",
    "batch = IndexDocumentsBatch()\n",
    "batch.add_upload_actions(docs_to_upload)\n",
    "\n",
    "# ✅ 업로드 실행\n",
    "search_client.index_documents(batch=batch)\n",
    "print(\"✅ 벡터 업로드 완료\")"
   ]
  },
  {
   "cell_type": "markdown",
   "metadata": {},
   "source": []
  }
 ],
 "metadata": {
  "kernelspec": {
   "display_name": "deep",
   "language": "python",
   "name": "python3"
  },
  "language_info": {
   "codemirror_mode": {
    "name": "ipython",
    "version": 3
   },
   "file_extension": ".py",
   "mimetype": "text/x-python",
   "name": "python",
   "nbconvert_exporter": "python",
   "pygments_lexer": "ipython3",
   "version": "3.8.20"
  }
 },
 "nbformat": 4,
 "nbformat_minor": 2
}
